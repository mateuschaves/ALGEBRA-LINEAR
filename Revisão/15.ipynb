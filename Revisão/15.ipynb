{
 "cells": [
  {
   "cell_type": "markdown",
   "metadata": {},
   "source": [
    "$T:R^3 \\rightarrow R^2; T(x, y, z) = (x + y, 2z)$"
   ]
  },
  {
   "cell_type": "markdown",
   "metadata": {},
   "source": [
    "$A = \\{(1, 0, 0), (0, 1, 0), (0, 0, 1)\\} $"
   ]
  },
  {
   "cell_type": "markdown",
   "metadata": {},
   "source": [
    "$B = \\{(1, 0); (0, 1)\\} $"
   ]
  },
  {
   "cell_type": "markdown",
   "metadata": {},
   "source": [
    "$T(1, 0, 0) = (1, 0) = a(1, 0) + b(0, 1) \\rightarrow a = 1$ e $b = 0$"
   ]
  },
  {
   "cell_type": "markdown",
   "metadata": {},
   "source": [
    "$T(0, 1, 0) = (1, 0) = c(1, 0) + d(0, 1) \\rightarrow a = 1$ e $b = 0$"
   ]
  },
  {
   "cell_type": "markdown",
   "metadata": {},
   "source": [
    "$T(0, 0, 1) = (0, 2) = e(1, 0) + f(0, 1) \\rightarrow a = 0$ e $b = 2$"
   ]
  },
  {
   "cell_type": "markdown",
   "metadata": {},
   "source": [
    "$\\left (\n",
    "    \\begin{array}{cc}\n",
    "    1 & 1 & 0 \\\\\n",
    "    0 & 0 & 2\n",
    "    \\end{array}\n",
    " \\right )$"
   ]
  }
 ],
 "metadata": {
  "kernelspec": {
   "display_name": "Python 3",
   "language": "python",
   "name": "python3"
  },
  "language_info": {
   "codemirror_mode": {
    "name": "ipython",
    "version": 3
   },
   "file_extension": ".py",
   "mimetype": "text/x-python",
   "name": "python",
   "nbconvert_exporter": "python",
   "pygments_lexer": "ipython3",
   "version": "3.7.0"
  }
 },
 "nbformat": 4,
 "nbformat_minor": 2
}
