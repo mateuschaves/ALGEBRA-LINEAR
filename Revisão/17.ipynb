{
 "cells": [
  {
   "cell_type": "markdown",
   "metadata": {},
   "source": [
    "$A = \\{(1, 1); (1, 0) \\}; B = [(1, 2, 0); (1, 0, -1), (1, -1, 3)]$"
   ]
  },
  {
   "cell_type": "markdown",
   "metadata": {},
   "source": [
    "$[T]^{A}_B =$\n",
    "$\\left [ \n",
    "    \\begin{array}{cc}\n",
    "     2 & 0 \\\\\n",
    "     1 & -2 \\\\\n",
    "     -1 & 3\n",
    "    \\end{array}\n",
    "\\right ]$"
   ]
  },
  {
   "cell_type": "markdown",
   "metadata": {},
   "source": [
    "$T(x, y) = ?; T:R^2 \\rightarrow R^3$"
   ]
  },
  {
   "cell_type": "markdown",
   "metadata": {},
   "source": [
    "$(x, y) = a(1, 1) + b(1, 0)$"
   ]
  },
  {
   "cell_type": "markdown",
   "metadata": {},
   "source": [
    "$\\left \\{\n",
    "    \\begin{array}{ll}\n",
    "    a + b = x \\\\\n",
    "    a = y\n",
    "    \\end{array}\n",
    " \\right.$"
   ]
  },
  {
   "cell_type": "markdown",
   "metadata": {},
   "source": [
    "$a = y$"
   ]
  },
  {
   "cell_type": "markdown",
   "metadata": {},
   "source": [
    "$b = x - y$"
   ]
  },
  {
   "cell_type": "markdown",
   "metadata": {},
   "source": [
    "$(x, y) = y(1, 1) + (x - y)(1, 0)$"
   ]
  },
  {
   "cell_type": "markdown",
   "metadata": {},
   "source": [
    "$T(x, y) = yT(1, 1) + (x - y)T(1, 0)$"
   ]
  },
  {
   "cell_type": "markdown",
   "metadata": {},
   "source": [
    "$[T(1, 1)]_b = \n",
    "\\left [ \n",
    "    \\begin{array}{cc}\n",
    "     2  \\\\\n",
    "     1  \\\\\n",
    "     -1 \n",
    "    \\end{array}\n",
    "\\right ]$"
   ]
  },
  {
   "cell_type": "markdown",
   "metadata": {},
   "source": [
    "$T(1,1) = 2(1, 2, 0) + 1(1, 0, -1) - 1(1, -1, 3)$"
   ]
  },
  {
   "cell_type": "markdown",
   "metadata": {},
   "source": [
    "$T(1, 1) = (2, 4, 0) + (1, 0, -1) + (-1, 1, -3)$"
   ]
  },
  {
   "cell_type": "markdown",
   "metadata": {},
   "source": [
    "$T(1, 1) = (2, 5, -4)$"
   ]
  },
  {
   "cell_type": "markdown",
   "metadata": {},
   "source": [
    "$[T(1, 0)]_b = \n",
    "\\left [ \n",
    "    \\begin{array}{cc}\n",
    "     0  \\\\\n",
    "     -2  \\\\\n",
    "     3 \n",
    "    \\end{array}\n",
    "\\right ]$"
   ]
  },
  {
   "cell_type": "markdown",
   "metadata": {},
   "source": [
    "$T(1,0) = 0(1, 2, 0) -2 (1, 0, -1) + 3(1, -1, 3)$"
   ]
  },
  {
   "cell_type": "markdown",
   "metadata": {},
   "source": [
    "$T(1, 0) = (-2, 0, 2) + (3, -3, 9)$"
   ]
  },
  {
   "cell_type": "markdown",
   "metadata": {},
   "source": [
    "$T(1, 0) = (1, -3, 11)$"
   ]
  },
  {
   "cell_type": "markdown",
   "metadata": {},
   "source": [
    "$T(x, y) = y(2, 5, -4) + (x - y)(1, -3, 11)$"
   ]
  },
  {
   "cell_type": "markdown",
   "metadata": {},
   "source": [
    "$T(x, y) = (2y, 5y, -4y) + (x - y, -3x + 3y, 11x - 11y)$"
   ]
  },
  {
   "cell_type": "markdown",
   "metadata": {},
   "source": [
    "$T(x, y) = (x - y, 8y - 3x, 11x - 15y )$"
   ]
  }
 ],
 "metadata": {
  "kernelspec": {
   "display_name": "Python 3",
   "language": "python",
   "name": "python3"
  },
  "language_info": {
   "codemirror_mode": {
    "name": "ipython",
    "version": 3
   },
   "file_extension": ".py",
   "mimetype": "text/x-python",
   "name": "python",
   "nbconvert_exporter": "python",
   "pygments_lexer": "ipython3",
   "version": "3.7.0"
  }
 },
 "nbformat": 4,
 "nbformat_minor": 2
}
