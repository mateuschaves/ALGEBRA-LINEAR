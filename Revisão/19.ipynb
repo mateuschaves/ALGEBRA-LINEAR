{
 "cells": [
  {
   "cell_type": "markdown",
   "metadata": {},
   "source": [
    "<b>Seja $T: R^2 \\rightarrow R^2$ com $T(x, y) = (4x - 3y, -2x + 2y)$</b>"
   ]
  },
  {
   "cell_type": "markdown",
   "metadata": {},
   "source": [
    "$A)$<b>Mostre que $T$ é inversível.</b>"
   ]
  },
  {
   "cell_type": "markdown",
   "metadata": {},
   "source": [
    "$K = \\left [ \n",
    "    \\begin{array}{cc}\n",
    "    4 & -3 \\\\\n",
    "    -2 & 2 \n",
    "    \\end{array}\n",
    " \\right ]$"
   ]
  },
  {
   "cell_type": "markdown",
   "metadata": {},
   "source": [
    "$det(K) = 8 - 6 = 2 \\therefore T$ é inversível."
   ]
  },
  {
   "cell_type": "markdown",
   "metadata": {},
   "source": [
    "$B)$<b>Dê a regra de $T^{-1}$</b>"
   ]
  },
  {
   "cell_type": "markdown",
   "metadata": {},
   "source": [
    "$\\left [ \n",
    "    \\begin{array}{cc}\n",
    "    4 & -3 \\\\\n",
    "    -2 & 2 \n",
    "    \\end{array}\n",
    " \\right ]\n",
    " \\left [ \n",
    "    \\begin{array}{cc}\n",
    "    1 & 0 \\\\\n",
    "    0 & 1 \n",
    "    \\end{array}\n",
    " \\right ]$"
   ]
  },
  {
   "cell_type": "markdown",
   "metadata": {},
   "source": [
    "$L2 \\rightarrow L2 + \\frac{1}{2}L1$"
   ]
  },
  {
   "cell_type": "markdown",
   "metadata": {},
   "source": [
    "$\\left [ \n",
    "    \\begin{array}{cc}\n",
    "    4 & -3 \\\\\n",
    "    0 & \\frac{1}{2}\n",
    "    \\end{array}\n",
    " \\right ]\n",
    " \\left [ \n",
    "    \\begin{array}{cc}\n",
    "    1 & 0 \\\\\n",
    "    \\frac{1}{2} & 1 \n",
    "    \\end{array}\n",
    " \\right ]$"
   ]
  },
  {
   "cell_type": "markdown",
   "metadata": {},
   "source": [
    "$L2 \\rightarrow 2L2$"
   ]
  },
  {
   "cell_type": "markdown",
   "metadata": {},
   "source": [
    "$\\left [ \n",
    "    \\begin{array}{cc}\n",
    "    4 & -3 \\\\\n",
    "    0 & 1\n",
    "    \\end{array}\n",
    " \\right ]\n",
    " \\left [ \n",
    "    \\begin{array}{cc}\n",
    "    1 & 0 \\\\\n",
    "    1 & 2 \n",
    "    \\end{array}\n",
    " \\right ]$"
   ]
  },
  {
   "cell_type": "markdown",
   "metadata": {},
   "source": [
    "$L1 \\rightarrow L1 + 3L2$"
   ]
  },
  {
   "cell_type": "markdown",
   "metadata": {},
   "source": [
    "$\\left [ \n",
    "    \\begin{array}{cc}\n",
    "    4 & 0 \\\\\n",
    "    0 & 1\n",
    "    \\end{array}\n",
    " \\right ]\n",
    " \\left [ \n",
    "    \\begin{array}{cc}\n",
    "    4 & 6 \\\\\n",
    "    1 & 2 \n",
    "    \\end{array}\n",
    " \\right ]$"
   ]
  },
  {
   "cell_type": "markdown",
   "metadata": {},
   "source": [
    "$L1 \\rightarrow \\frac{1}{4}L1$"
   ]
  },
  {
   "cell_type": "markdown",
   "metadata": {},
   "source": [
    "$\\left [ \n",
    "    \\begin{array}{cc}\n",
    "    1 & 0 \\\\\n",
    "    0 & 1\n",
    "    \\end{array}\n",
    " \\right ]\n",
    " \\left [ \n",
    "    \\begin{array}{cc}\n",
    "    1 & \\frac{3}{2} \\\\\n",
    "    1 & 2 \n",
    "    \\end{array}\n",
    " \\right ]$"
   ]
  },
  {
   "cell_type": "markdown",
   "metadata": {},
   "source": [
    "$T^{-1}(x, y) = (x + \\frac{3}{2}y, x + 2y)$"
   ]
  }
 ],
 "metadata": {
  "kernelspec": {
   "display_name": "Python 3",
   "language": "python",
   "name": "python3"
  },
  "language_info": {
   "codemirror_mode": {
    "name": "ipython",
    "version": 3
   },
   "file_extension": ".py",
   "mimetype": "text/x-python",
   "name": "python",
   "nbconvert_exporter": "python",
   "pygments_lexer": "ipython3",
   "version": "3.7.0"
  }
 },
 "nbformat": 4,
 "nbformat_minor": 2
}
