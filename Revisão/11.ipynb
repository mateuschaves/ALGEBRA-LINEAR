{
 "cells": [
  {
   "cell_type": "markdown",
   "metadata": {},
   "source": [
    "<center> <b>Seja o espaço vetorial $V = M_{2x2}$ e a transformação linear:</b> </center>"
   ]
  },
  {
   "cell_type": "markdown",
   "metadata": {},
   "source": [
    "$$T:V \\rightarrow R^3$$"
   ]
  },
  {
   "cell_type": "markdown",
   "metadata": {},
   "source": [
    "$$ T\\left [ \\begin{array}{cc}\n",
    "            a & b \\\\\n",
    "            c & d\n",
    "            \\end{array} \\right ]  = (a + b, c - d, 2a)$$"
   ]
  },
  {
   "cell_type": "markdown",
   "metadata": {},
   "source": [
    "<center><b>Mostre que $T$ é linar</b></center>"
   ]
  },
  {
   "cell_type": "markdown",
   "metadata": {},
   "source": [
    "$u = \\left [ \\begin{array}{cc}\n",
    "            a_1 & b_1 \\\\\n",
    "            c_1 & d_1\n",
    "            \\end{array} \\right ] $"
   ]
  },
  {
   "cell_type": "markdown",
   "metadata": {},
   "source": [
    "$v = \\left [ \\begin{array}{cc}\n",
    "            a_2 & b_2 \\\\\n",
    "            c_2 & d_2\n",
    "            \\end{array} \\right ] $"
   ]
  },
  {
   "cell_type": "markdown",
   "metadata": {},
   "source": [
    "$T(u + v) =? T(u) + T(v)$"
   ]
  },
  {
   "cell_type": "markdown",
   "metadata": {},
   "source": [
    "$u + v = \\left [ \\begin{array}{cc}\n",
    "            a_1 + a_2 & b_1 + b_2 \\\\\n",
    "            c_1 + c_2 & d_1 + d_2\n",
    "            \\end{array} \\right ] $"
   ]
  },
  {
   "cell_type": "markdown",
   "metadata": {},
   "source": [
    "$T(u + v) = (a_1 + a_2 + b_1 + b_2, c_1 + c_2 - d_1 - d_2), 2a_1 + 2a_2)$"
   ]
  },
  {
   "cell_type": "markdown",
   "metadata": {},
   "source": [
    "$T(u) = (a_1 + b_1, c_1 - d_1, 2a_1)$"
   ]
  },
  {
   "cell_type": "markdown",
   "metadata": {},
   "source": [
    "$T(v) = (a_2 + b_2, c_2 - d_2, 2a_2)$"
   ]
  },
  {
   "cell_type": "markdown",
   "metadata": {},
   "source": [
    "$T(u) + T(v) = (a_1 + a_2 + b_1 + b_2, c_1 + c_2 - d_1 - d_2, 2a_1 + 2a_2)$"
   ]
  },
  {
   "cell_type": "markdown",
   "metadata": {},
   "source": [
    "$T(u + v) = T(u) + T(v)$"
   ]
  },
  {
   "cell_type": "markdown",
   "metadata": {},
   "source": [
    "$T(\\lambda u) =? \\lambda T(u)$"
   ]
  },
  {
   "cell_type": "markdown",
   "metadata": {},
   "source": [
    "$\\lambda u = \\left [ \\begin{array}{cc}\n",
    "            \\lambda a_1 & \\lambda b_1 \\\\\n",
    "            \\lambda c_1 & \\lambda d_1\n",
    "            \\end{array} \\right ] $"
   ]
  },
  {
   "cell_type": "markdown",
   "metadata": {},
   "source": [
    "$T(\\lambda u) = (\\lambda a_1 + \\lambda b_1, \\lambda c - \\lambda d, 2\\lambda a_1)$"
   ]
  },
  {
   "cell_type": "markdown",
   "metadata": {},
   "source": [
    "$T(\\lambda u) = \\lambda (a_1 +  b_1,  c -  d, 2a_1)$"
   ]
  },
  {
   "cell_type": "markdown",
   "metadata": {},
   "source": [
    "$\\lambda T(u) = \\lambda(a_1 + b_1, c_1 - d_1, 2a_1)$"
   ]
  },
  {
   "cell_type": "markdown",
   "metadata": {},
   "source": [
    "$T(\\lambda u) = \\lambda T(u)$"
   ]
  }
 ],
 "metadata": {
  "kernelspec": {
   "display_name": "Python 3",
   "language": "python",
   "name": "python3"
  },
  "language_info": {
   "codemirror_mode": {
    "name": "ipython",
    "version": 3
   },
   "file_extension": ".py",
   "mimetype": "text/x-python",
   "name": "python",
   "nbconvert_exporter": "python",
   "pygments_lexer": "ipython3",
   "version": "3.7.0"
  }
 },
 "nbformat": 4,
 "nbformat_minor": 2
}
