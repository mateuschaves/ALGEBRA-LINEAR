{
 "cells": [
  {
   "cell_type": "markdown",
   "metadata": {},
   "source": [
    "<b>Dada a matriz</b>\n",
    "$\n",
    "A = \\left ( \\begin{array}{cc}\n",
    "1 & -1 & 0 \\\\\n",
    "2 & 0 & 2  \\\\\n",
    "1 & -1 & 1\n",
    "\\end{array} \\right ) \n",
    "$ <b>, calcule seu determinante, verificando se ela é inversível, e determine sua\n",
    "inversa, se for possível, usando as operações elementares.</b>"
   ]
  },
  {
   "cell_type": "markdown",
   "metadata": {},
   "source": [
    "$det\\left ( \\begin{array}{cc}\n",
    "1 & -1 & 0 & 1 & -1 \\\\\n",
    "2 & 0 & 2 & 2 & 0\\\\\n",
    "1 & -1 & 1 & 1 & -1\n",
    "\\end{array} \\right) = -2 + 2 + 2 = 2$"
   ]
  },
  {
   "cell_type": "markdown",
   "metadata": {},
   "source": [
    "$\\left ( \\begin{array}{cc}\n",
    "1 & -1 & 0 \\\\\n",
    "2 & 0 & 2  \\\\\n",
    "1 & -1 & 1\n",
    "\\end{array} \\right )$"
   ]
  },
  {
   "cell_type": "markdown",
   "metadata": {},
   "source": [
    "$L2 - 2L1 \\rightarrow L2$"
   ]
  },
  {
   "cell_type": "markdown",
   "metadata": {},
   "source": [
    "$\\left ( \\begin{array}{cc}\n",
    "1 & -1 & 0 \\\\\n",
    "0 & 2 & 2  \\\\\n",
    "1 & -1 & 1\n",
    "\\end{array} \\right )$"
   ]
  },
  {
   "cell_type": "markdown",
   "metadata": {},
   "source": [
    "$L3 - L1 \\rightarrow L3$"
   ]
  },
  {
   "cell_type": "markdown",
   "metadata": {},
   "source": [
    "$\\left ( \\begin{array}{cc}\n",
    "1 & -1 & 0 \\\\\n",
    "0 & 2 & 2  \\\\\n",
    "0 & 0 & 1\n",
    "\\end{array} \\right )$"
   ]
  },
  {
   "cell_type": "markdown",
   "metadata": {},
   "source": [
    "$L1 + \\frac{1}{2}L2  \\rightarrow L1$"
   ]
  },
  {
   "cell_type": "markdown",
   "metadata": {},
   "source": [
    "$\\left ( \\begin{array}{cc}\n",
    "1 & 0 & 1 \\\\\n",
    "0 & 2 & 2  \\\\\n",
    "0 & 0 & 1\n",
    "\\end{array} \\right )$"
   ]
  },
  {
   "cell_type": "markdown",
   "metadata": {},
   "source": [
    "$L1 - L3 \\rightarrow L1$"
   ]
  },
  {
   "cell_type": "markdown",
   "metadata": {},
   "source": [
    "$\\left ( \\begin{array}{cc}\n",
    "1 & 0 & 0 \\\\\n",
    "0 & 2 & 2  \\\\\n",
    "0 & 0 & 1\n",
    "\\end{array} \\right )$"
   ]
  },
  {
   "cell_type": "markdown",
   "metadata": {},
   "source": [
    "$L2 - 2L3 \\rightarrow L2$"
   ]
  },
  {
   "cell_type": "markdown",
   "metadata": {},
   "source": [
    "$\\left ( \\begin{array}{cc}\n",
    "1 & 0 & 0 \\\\\n",
    "0 & 2 & 0  \\\\\n",
    "0 & 0 & 1\n",
    "\\end{array} \\right )$"
   ]
  },
  {
   "cell_type": "markdown",
   "metadata": {},
   "source": [
    "$\\frac{1}{2}L2 \\rightarrow L2$"
   ]
  },
  {
   "cell_type": "markdown",
   "metadata": {},
   "source": [
    "$\\left ( \\begin{array}{cc}\n",
    "1 & 0 & 0 \\\\\n",
    "0 & 1 & 0  \\\\\n",
    "0 & 0 & 1\n",
    "\\end{array} \\right )$"
   ]
  }
 ],
 "metadata": {
  "kernelspec": {
   "display_name": "Python 3",
   "language": "python",
   "name": "python3"
  },
  "language_info": {
   "codemirror_mode": {
    "name": "ipython",
    "version": 3
   },
   "file_extension": ".py",
   "mimetype": "text/x-python",
   "name": "python",
   "nbconvert_exporter": "python",
   "pygments_lexer": "ipython3",
   "version": "3.7.0"
  }
 },
 "nbformat": 4,
 "nbformat_minor": 2
}
