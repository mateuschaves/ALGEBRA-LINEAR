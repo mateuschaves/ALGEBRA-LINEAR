{
 "cells": [
  {
   "cell_type": "markdown",
   "metadata": {},
   "source": [
    "<b>Determinar a transformação linear $T:P_2 \\rightarrow P_2$ tal que $T(1) = x, T(x) = 1 - x^2 $ e $T(x^2) = x + 2x^2$</b>"
   ]
  },
  {
   "cell_type": "markdown",
   "metadata": {},
   "source": [
    "$\\alpha + \\beta x + \\lambda x^2 = a(1) + b(x) + c(x^2)$"
   ]
  },
  {
   "cell_type": "markdown",
   "metadata": {},
   "source": [
    "$\\alpha + \\beta x + \\lambda x^2 = a + bx + cx^2$"
   ]
  },
  {
   "cell_type": "markdown",
   "metadata": {},
   "source": [
    "$\\left \\{\n",
    "    \\begin{array}{ll}\n",
    "        \\alpha = a \\\\\n",
    "        \\beta = b \\\\\n",
    "        \\lambda = c\n",
    "    \\end{array}\n",
    " \\right.$"
   ]
  },
  {
   "cell_type": "markdown",
   "metadata": {},
   "source": [
    "$T( \\alpha + \\beta x + \\lambda x^2) = T(a(1)) + T(b(x)) + T(c(x^2))$"
   ]
  },
  {
   "cell_type": "markdown",
   "metadata": {},
   "source": [
    "$T( \\alpha + \\beta x + \\lambda x^2) = aT(1) + bT(x) + cT(x^2)$"
   ]
  },
  {
   "cell_type": "markdown",
   "metadata": {},
   "source": [
    "$T( \\alpha + \\beta x + \\lambda x^2) = ax + b(1-x^2) + c(x + 2x^2)$"
   ]
  },
  {
   "cell_type": "markdown",
   "metadata": {},
   "source": [
    "$T( \\alpha + \\beta x + \\lambda x^2) = \\alpha x + \\beta(1-x^2) + \\lambda(x + 2x^2)$"
   ]
  },
  {
   "cell_type": "markdown",
   "metadata": {},
   "source": [
    "$T( \\alpha + \\beta x + \\lambda x^2) = \\alpha x + \\beta -\\beta x^2 + \\lambda x + 2\\lambda x^2$"
   ]
  },
  {
   "cell_type": "markdown",
   "metadata": {},
   "source": [
    "$T( \\alpha + \\beta x + \\lambda x^2) = (- \\beta + 2\\lambda)x^2 + (\\alpha + \\lambda)x + \\beta$"
   ]
  }
 ],
 "metadata": {
  "kernelspec": {
   "display_name": "Python 3",
   "language": "python",
   "name": "python3"
  },
  "language_info": {
   "codemirror_mode": {
    "name": "ipython",
    "version": 3
   },
   "file_extension": ".py",
   "mimetype": "text/x-python",
   "name": "python",
   "nbconvert_exporter": "python",
   "pygments_lexer": "ipython3",
   "version": "3.7.0"
  }
 },
 "nbformat": 4,
 "nbformat_minor": 2
}
