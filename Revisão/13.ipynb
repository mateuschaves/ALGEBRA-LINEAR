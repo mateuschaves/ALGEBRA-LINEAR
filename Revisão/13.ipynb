{
 "cells": [
  {
   "cell_type": "markdown",
   "metadata": {},
   "source": [
    "<b>Determine uma expressão analítica de uma transformação linear $T:R^3 \\rightarrow R^4$ tal que a imagem de $T$ seja gerada pelos vetores $(1, 2, 0, -4)$ e $(2, 0, -1, -3)$. A transformação linear encontrada é a única que satisfaz a condição dada no exercício ? </b>"
   ]
  },
  {
   "cell_type": "markdown",
   "metadata": {},
   "source": [
    "$T(1, 0, 0) = (1, 2, 0, - 4)$"
   ]
  },
  {
   "cell_type": "markdown",
   "metadata": {},
   "source": [
    "$T(0, 1, 0) = (2, 0, -1, -3)$"
   ]
  },
  {
   "cell_type": "markdown",
   "metadata": {},
   "source": [
    "$T(0, 0, 1) = (0, 0, 0, 0)$"
   ]
  },
  {
   "cell_type": "markdown",
   "metadata": {},
   "source": [
    "$(x, y, z) = a(1, 0, 0) + b(0, 1, 0) + c(0, 0, 1) $"
   ]
  },
  {
   "cell_type": "markdown",
   "metadata": {},
   "source": [
    "$(x, y, z) = (a, 0, 0) + (0, b, 0) + (0, 0, c)$"
   ]
  },
  {
   "cell_type": "markdown",
   "metadata": {},
   "source": [
    "$(x, y, z) = (a, b, c)$"
   ]
  },
  {
   "cell_type": "markdown",
   "metadata": {},
   "source": [
    "$T(x, y, z) = T(a(1, 0, 0)) + T(b(0, 1, 0)) + T(c(0, 0, 1)) $"
   ]
  },
  {
   "cell_type": "markdown",
   "metadata": {},
   "source": [
    "$T(x, y, z) = aT((1, 0, 0)) + bT((0, 1, 0)) + cT((0, 0, 1)) $"
   ]
  },
  {
   "cell_type": "markdown",
   "metadata": {},
   "source": [
    "$T(x, y, z) = x(1, 2, 0, -4) + y(2, 0, -1, -3) + z(0, 0, 0, 0) $"
   ]
  },
  {
   "cell_type": "markdown",
   "metadata": {},
   "source": [
    "$T(x, y, z)= (x, 2x, 0, -4x) + (2y, 0, -y, -3y)$"
   ]
  },
  {
   "cell_type": "markdown",
   "metadata": {},
   "source": [
    "$T(x, y, z) = (x + 2y, 2x, -y, -4x - 3y)$"
   ]
  },
  {
   "cell_type": "markdown",
   "metadata": {},
   "source": [
    "Não é a única !"
   ]
  }
 ],
 "metadata": {
  "kernelspec": {
   "display_name": "Python 3",
   "language": "python",
   "name": "python3"
  },
  "language_info": {
   "codemirror_mode": {
    "name": "ipython",
    "version": 3
   },
   "file_extension": ".py",
   "mimetype": "text/x-python",
   "name": "python",
   "nbconvert_exporter": "python",
   "pygments_lexer": "ipython3",
   "version": "3.7.0"
  }
 },
 "nbformat": 4,
 "nbformat_minor": 2
}
