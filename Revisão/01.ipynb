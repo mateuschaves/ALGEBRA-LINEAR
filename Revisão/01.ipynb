{
 "cells": [
  {
   "cell_type": "markdown",
   "metadata": {},
   "source": [
    "<b>Escalone o sistema de equações lineares abaixo e indique se é compatível determinado (com a respectiva\n",
    "solução), compatível indeterminado ou incompatível: </b>"
   ]
  },
  {
   "cell_type": "markdown",
   "metadata": {},
   "source": [
    "$\\begin{cases}\n",
    "x - y + 2z = 3 \\\\\n",
    "4x - y + 3z = 2 \\\\\n",
    "-x + 2y - 2z = 2\n",
    "\\end{cases}$"
   ]
  },
  {
   "cell_type": "markdown",
   "metadata": {},
   "source": [
    "$\\left ( \\begin{array}{cc}\n",
    "    1 & -1 & 2 & 3 \\\\\n",
    "    4 & -1 & 3 & 2 \\\\\n",
    "    -1 & 2 & -2 & 2\n",
    "\\end{array} \\right )$"
   ]
  },
  {
   "cell_type": "markdown",
   "metadata": {},
   "source": [
    "$L2 - 4L1 \\rightarrow L2$"
   ]
  },
  {
   "cell_type": "markdown",
   "metadata": {},
   "source": [
    "$\\left ( \\begin{array}{cc}\n",
    "    1 & -1 & 2 & 3 \\\\\n",
    "    0 & 3 & -5 & -10 \\\\\n",
    "    -1 & 2 & -2 & 2\n",
    "\\end{array} \\right )$"
   ]
  },
  {
   "cell_type": "markdown",
   "metadata": {},
   "source": [
    "$L3 + L1 \\rightarrow L3$"
   ]
  },
  {
   "cell_type": "markdown",
   "metadata": {},
   "source": [
    "$\\left ( \\begin{array}{cc}\n",
    "    1 & -1 & 2 & 3 \\\\\n",
    "    0 & 3 & -5 & -10 \\\\\n",
    "    0 & 1 & 0 & 5\n",
    "\\end{array} \\right )$"
   ]
  },
  {
   "cell_type": "markdown",
   "metadata": {},
   "source": [
    "$L3 - \\frac{1}{3}L2 \\rightarrow L3$"
   ]
  },
  {
   "cell_type": "markdown",
   "metadata": {},
   "source": [
    "$\\left ( \\begin{array}{cc}\n",
    "    1 & -1 & 2 & 3 \\\\\n",
    "    0 & 3 & -5 & -10 \\\\\n",
    "    0 & 0 & \\frac{5}{3} & \\frac{25}{3}\n",
    "\\end{array} \\right )$"
   ]
  },
  {
   "cell_type": "markdown",
   "metadata": {},
   "source": [
    "$\\begin{cases}\n",
    "x - y + 2z = 3 \\\\\n",
    "3y - 5z = -10 \\\\\n",
    "\\frac{5}{3}z = \\frac{25}{3}\n",
    "\\end{cases}$"
   ]
  },
  {
   "cell_type": "markdown",
   "metadata": {},
   "source": [
    "$z = \\frac{\\frac{25}{3}}{\\frac{5}{3}}$"
   ]
  },
  {
   "cell_type": "markdown",
   "metadata": {},
   "source": [
    "$z = \\frac{25}{3} \\cdot \\frac{3}{5}$"
   ]
  },
  {
   "cell_type": "markdown",
   "metadata": {},
   "source": [
    "$z =\\frac{75}{15} = 5$"
   ]
  },
  {
   "cell_type": "markdown",
   "metadata": {},
   "source": [
    "$3y - 25 = -10$"
   ]
  },
  {
   "cell_type": "markdown",
   "metadata": {},
   "source": [
    "$3y = -10 + 25$"
   ]
  },
  {
   "cell_type": "markdown",
   "metadata": {},
   "source": [
    "$y = \\frac{15}{3} = 5$"
   ]
  },
  {
   "cell_type": "markdown",
   "metadata": {},
   "source": [
    "$x - 5 + 10 = 3$"
   ]
  },
  {
   "cell_type": "markdown",
   "metadata": {},
   "source": [
    "$x = 3 - 5$"
   ]
  },
  {
   "cell_type": "markdown",
   "metadata": {},
   "source": [
    "$x = -2$"
   ]
  }
 ],
 "metadata": {
  "kernelspec": {
   "display_name": "Python 3",
   "language": "python",
   "name": "python3"
  },
  "language_info": {
   "codemirror_mode": {
    "name": "ipython",
    "version": 3
   },
   "file_extension": ".py",
   "mimetype": "text/x-python",
   "name": "python",
   "nbconvert_exporter": "python",
   "pygments_lexer": "ipython3",
   "version": "3.7.0"
  }
 },
 "nbformat": 4,
 "nbformat_minor": 2
}
