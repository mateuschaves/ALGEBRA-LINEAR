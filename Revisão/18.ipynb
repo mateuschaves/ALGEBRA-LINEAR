{
 "cells": [
  {
   "cell_type": "markdown",
   "metadata": {},
   "source": [
    "$T: R^2 \\rightarrow R^3; A = \\{ (-1, 1); (1, 0)\\}; B = \\{(1, 1, -1), (2, 1, 0), (3, 0, 1) \\}$"
   ]
  },
  {
   "cell_type": "markdown",
   "metadata": {},
   "source": [
    "$[T]^{A}_B =$\n",
    "$\\left [ \n",
    "    \\begin{array}{cc}\n",
    "     3 & 1 \\\\\n",
    "     2 & 5 \\\\\n",
    "     1 & -1\n",
    "    \\end{array}\n",
    "\\right ]$"
   ]
  },
  {
   "cell_type": "markdown",
   "metadata": {},
   "source": [
    "$T(x, y) = ?$"
   ]
  },
  {
   "cell_type": "markdown",
   "metadata": {},
   "source": [
    "$(x, y) = a(-1, 1) + b(1, 0)$"
   ]
  },
  {
   "cell_type": "markdown",
   "metadata": {},
   "source": [
    "$(x, y) = (-a + b, a)$"
   ]
  },
  {
   "cell_type": "markdown",
   "metadata": {},
   "source": [
    "$\\left \\{\n",
    "    \\begin{array}{ll}\n",
    "        y = a \\\\\n",
    "        x = b - a\n",
    "    \\end{array}\n",
    " \\right.$"
   ]
  },
  {
   "cell_type": "markdown",
   "metadata": {},
   "source": [
    "$x = b - y$"
   ]
  },
  {
   "cell_type": "markdown",
   "metadata": {},
   "source": [
    "$x + y = b$"
   ]
  },
  {
   "cell_type": "markdown",
   "metadata": {},
   "source": [
    "$T(x, y) = yT(-1, 1) + (x + y)T(1, 0)$"
   ]
  },
  {
   "cell_type": "markdown",
   "metadata": {},
   "source": [
    "$[T(-1, 1)]_B = \\left [\n",
    "             \\begin{array}{cc}\n",
    "              3 \\\\\n",
    "              2 \\\\\n",
    "              1\n",
    "             \\end{array}\n",
    "         \\right ]$"
   ]
  },
  {
   "cell_type": "markdown",
   "metadata": {},
   "source": [
    "$T(-1, 1) = 3(1, 1, -1) + 2(2, 1, 0) + 1(3, 0, 1)$"
   ]
  },
  {
   "cell_type": "markdown",
   "metadata": {},
   "source": [
    "$T(-1, 1) = (3, 3, -3) + (4, 2, 0) + (3, 0, 1)$"
   ]
  },
  {
   "cell_type": "markdown",
   "metadata": {},
   "source": [
    "$T(-1, 1) =(10, 5, -2)$"
   ]
  },
  {
   "cell_type": "markdown",
   "metadata": {},
   "source": [
    "$[T(1, 0)]_B = \\left [\n",
    "             \\begin{array}{cc}\n",
    "              1 \\\\\n",
    "              5 \\\\\n",
    "              -1\n",
    "             \\end{array}\n",
    "         \\right ]$"
   ]
  },
  {
   "cell_type": "markdown",
   "metadata": {},
   "source": [
    "$T(1, 0) = 1(1, 1, -1) + 5(2, 1, 0) - 1(3, 0, 1)$"
   ]
  },
  {
   "cell_type": "markdown",
   "metadata": {},
   "source": [
    "$T(1, 0) = (1, 1, -1) + (10, 5, 0) + (-3, 0, -1)$"
   ]
  },
  {
   "cell_type": "markdown",
   "metadata": {},
   "source": [
    "$T(1, 0)= (8, 6, -2)$"
   ]
  },
  {
   "cell_type": "markdown",
   "metadata": {},
   "source": [
    "$T(x, y) = y(10, 5, -2) + (x + y)(8, 6, -2)$"
   ]
  },
  {
   "cell_type": "markdown",
   "metadata": {},
   "source": [
    "$T(x, y) = (10y, 5y, -2y) + (8x + 8y, 6x + 6y, -2x - 2y)$"
   ]
  },
  {
   "cell_type": "markdown",
   "metadata": {},
   "source": [
    "$T(x, y) = (8x + 18y, 6x + 11y, -2x - 4y)$"
   ]
  }
 ],
 "metadata": {
  "kernelspec": {
   "display_name": "Python 3",
   "language": "python",
   "name": "python3"
  },
  "language_info": {
   "codemirror_mode": {
    "name": "ipython",
    "version": 3
   },
   "file_extension": ".py",
   "mimetype": "text/x-python",
   "name": "python",
   "nbconvert_exporter": "python",
   "pygments_lexer": "ipython3",
   "version": "3.7.0"
  }
 },
 "nbformat": 4,
 "nbformat_minor": 2
}
