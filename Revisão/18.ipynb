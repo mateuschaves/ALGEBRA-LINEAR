{
 "cells": [
  {
   "cell_type": "markdown",
   "metadata": {},
   "source": [
    "$T: R^2 \\rightarrow R^3; A = \\{ (-1, 1); (1, 0)\\}; B = \\{(1, 1, -1), (2, 1, 0), (3, 0, 1) \\}$"
   ]
  },
  {
   "cell_type": "markdown",
   "metadata": {},
   "source": [
    "$[T]^{A}_B =$\n",
    "$\\left [ \n",
    "    \\begin{array}{cc}\n",
    "     3 & 1 \\\\\n",
    "     2 & 5 \\\\\n",
    "     1 & -1\n",
    "    \\end{array}\n",
    "\\right ]$"
   ]
  },
  {
   "cell_type": "markdown",
   "metadata": {},
   "source": [
    "$T(x, y) = ?$"
   ]
  },
  {
   "cell_type": "markdown",
   "metadata": {},
   "source": []
  }
 ],
 "metadata": {
  "kernelspec": {
   "display_name": "Python 3",
   "language": "python",
   "name": "python3"
  },
  "language_info": {
   "codemirror_mode": {
    "name": "ipython",
    "version": 3
   },
   "file_extension": ".py",
   "mimetype": "text/x-python",
   "name": "python",
   "nbconvert_exporter": "python",
   "pygments_lexer": "ipython3",
   "version": "3.7.0"
  }
 },
 "nbformat": 4,
 "nbformat_minor": 2
}
