{
 "cells": [
  {
   "cell_type": "markdown",
   "metadata": {},
   "source": [
    "$y = -z$"
   ]
  },
  {
   "cell_type": "markdown",
   "metadata": {},
   "source": [
    "$x = -2z + 3t$"
   ]
  },
  {
   "cell_type": "markdown",
   "metadata": {},
   "source": [
    "$\\left ( \\begin{array}{rcr}\n",
    "x & y \\\\\n",
    "z & t\n",
    "\\end{array} \\right ) \\rightarrow \n",
    "\\left ( \\begin{array}{rcr}\n",
    "-2z + 3t & -z \\\\\n",
    "z & t\n",
    "\\end{array} \\right )$"
   ]
  },
  {
   "cell_type": "markdown",
   "metadata": {},
   "source": [
    "$t\\cdot \\left ( \\begin{array}{rcr}\n",
    "3 & 0 \\\\\n",
    "0 & 1\n",
    "\\end{array} \\right ) \n",
    "+\n",
    "z\\cdot \\left ( \\begin{array}{rcr}\n",
    "-2 & -1 \\\\\n",
    "1 & 0\n",
    "\\end{array} \\right )$"
   ]
  },
  {
   "cell_type": "markdown",
   "metadata": {},
   "source": [
    "<b>Provando</b>"
   ]
  },
  {
   "cell_type": "markdown",
   "metadata": {},
   "source": [
    "$U = \\left ( \\begin{array}{rcr}\n",
    "a & b \\\\\n",
    "c & d\n",
    "\\end{array} \\right )$"
   ]
  },
  {
   "cell_type": "markdown",
   "metadata": {},
   "source": [
    "$V = \\left ( \\begin{array}{rcr}\n",
    "x & y \\\\\n",
    "z & t\n",
    "\\end{array} \\right )$"
   ]
  },
  {
   "cell_type": "markdown",
   "metadata": {},
   "source": [
    "$U + V \\in W$"
   ]
  },
  {
   "cell_type": "markdown",
   "metadata": {},
   "source": [
    "$U + V = \\left ( \\begin{array}{rcr}\n",
    "a + x & b + y \\\\\n",
    "c + z & d + t\n",
    "\\end{array} \\right ) \\in W$"
   ]
  },
  {
   "cell_type": "code",
   "execution_count": null,
   "metadata": {},
   "outputs": [],
   "source": []
  }
 ],
 "metadata": {
  "kernelspec": {
   "display_name": "Python 3",
   "language": "python",
   "name": "python3"
  },
  "language_info": {
   "codemirror_mode": {
    "name": "ipython",
    "version": 3
   },
   "file_extension": ".py",
   "mimetype": "text/x-python",
   "name": "python",
   "nbconvert_exporter": "python",
   "pygments_lexer": "ipython3",
   "version": "3.7.0"
  }
 },
 "nbformat": 4,
 "nbformat_minor": 2
}
