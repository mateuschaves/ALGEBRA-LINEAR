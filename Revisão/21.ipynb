{
 "cells": [
  {
   "cell_type": "markdown",
   "metadata": {},
   "source": [
    "$T(1) = 0 \\rightarrow (0)t^3 + (0)t^2 + (0)t + (0)$ "
   ]
  },
  {
   "cell_type": "markdown",
   "metadata": {},
   "source": [
    "$a = 0; b = 0; c = 0; d = 0$"
   ]
  },
  {
   "cell_type": "markdown",
   "metadata": {},
   "source": [
    "$T(t) = 1 \\rightarrow (0)t^3 + (0)t^2 + (0)t + (1)$"
   ]
  },
  {
   "cell_type": "markdown",
   "metadata": {},
   "source": [
    "$e = 0; f = 0; g = 0; h = 1$"
   ]
  },
  {
   "cell_type": "markdown",
   "metadata": {},
   "source": [
    "$T(t^2) = 2t \\rightarrow (0)t^3 + (0)t^2 + (2)t + (0)$"
   ]
  },
  {
   "cell_type": "markdown",
   "metadata": {},
   "source": [
    "$i = 0; j = 0; l = 2; m = 0$"
   ]
  },
  {
   "cell_type": "markdown",
   "metadata": {},
   "source": [
    "$T(t^3) = 3t^2 \\rightarrow (0)t^3 + (3)t^2 + (0)t + (0)$"
   ]
  },
  {
   "cell_type": "markdown",
   "metadata": {},
   "source": [
    "$n = 0; o = 3; p = 0; q = 0$"
   ]
  },
  {
   "cell_type": "markdown",
   "metadata": {},
   "source": [
    "$\\left (\n",
    "    \\begin{array}{cc}\n",
    "    0 & 1 & 0 & 0 \\\\\n",
    "    0 & 0 & 2 & 0 \\\\\n",
    "    0 & 0 & 0 & 3 \\\\\n",
    "    0 & 0 & 0 & 0  \n",
    "    \\end{array}\n",
    " \\right )$"
   ]
  },
  {
   "cell_type": "markdown",
   "metadata": {},
   "source": [
    "$at^3 +  bt^2 + ct + d$"
   ]
  },
  {
   "cell_type": "markdown",
   "metadata": {},
   "source": [
    "$T(at^3 +  bt^2 + ct + d) = aT(t^3) + bT(t^2) + cT(t) + dT(1)$"
   ]
  },
  {
   "cell_type": "markdown",
   "metadata": {},
   "source": [
    "$T(at^3 +  bt^2 + ct + d) = 3at^2 + 2bt + c$"
   ]
  }
 ],
 "metadata": {
  "kernelspec": {
   "display_name": "Python 3",
   "language": "python",
   "name": "python3"
  },
  "language_info": {
   "codemirror_mode": {
    "name": "ipython",
    "version": 3
   },
   "file_extension": ".py",
   "mimetype": "text/x-python",
   "name": "python",
   "nbconvert_exporter": "python",
   "pygments_lexer": "ipython3",
   "version": "3.7.0"
  }
 },
 "nbformat": 4,
 "nbformat_minor": 2
}
