{
 "cells": [
  {
   "cell_type": "markdown",
   "metadata": {},
   "source": [
    "$F(x, y, z) = (2x^2 + 3y, x, z)$"
   ]
  },
  {
   "cell_type": "markdown",
   "metadata": {},
   "source": [
    "$u = (x_1, y_1, z_1)$"
   ]
  },
  {
   "cell_type": "markdown",
   "metadata": {},
   "source": [
    "$v = (x_2, y_2, z_2)$"
   ]
  },
  {
   "cell_type": "markdown",
   "metadata": {},
   "source": [
    "$u + v = (x_1 + x_2, y_1 + y_2, z_1 + z_2)$"
   ]
  },
  {
   "cell_type": "markdown",
   "metadata": {},
   "source": [
    "$F(u) = (2(x_1)^2 + 3y_1, x_1, z_1)$"
   ]
  },
  {
   "cell_type": "markdown",
   "metadata": {},
   "source": [
    "$F(v) = (2(x_2)^2 + 3y_2, x_2, z_2)$"
   ]
  },
  {
   "cell_type": "markdown",
   "metadata": {},
   "source": [
    "$F(u) + F(v) = (2(x_1)^2 + 2(x_2)^2 + 3y_1 + 3y_2, x_1 + x_2, z_1 + z_2)$"
   ]
  },
  {
   "cell_type": "markdown",
   "metadata": {},
   "source": [
    "$F(u + v) = (2(x_1 + x_2)^2 + 3(y_1 + y_2), x_1 + x_2, z_1 + z_2)$"
   ]
  },
  {
   "cell_type": "markdown",
   "metadata": {},
   "source": [
    "$F(u) + F(v) \\neq F(u + v)$, <b>Logo </b> $F(x, y, z) = (2x^2 + 3y, x, z)$ <b> não é transformação linear</b>"
   ]
  }
 ],
 "metadata": {
  "kernelspec": {
   "display_name": "Python 3",
   "language": "python",
   "name": "python3"
  },
  "language_info": {
   "codemirror_mode": {
    "name": "ipython",
    "version": 3
   },
   "file_extension": ".py",
   "mimetype": "text/x-python",
   "name": "python",
   "nbconvert_exporter": "python",
   "pygments_lexer": "ipython3",
   "version": "3.7.0"
  }
 },
 "nbformat": 4,
 "nbformat_minor": 2
}
