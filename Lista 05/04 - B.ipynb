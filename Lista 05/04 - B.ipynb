{
 "cells": [
  {
   "cell_type": "markdown",
   "metadata": {},
   "source": [
    "<b>Seja $F:IR3 → IR2$\n",
    "\n",
    "a transformação linear dada por $F(x, y, z) = (x + y, 2x − y + z)$.</b>"
   ]
  },
  {
   "cell_type": "markdown",
   "metadata": {},
   "source": [
    "<b>Determine uma base e a dimensão de $Im(F)$.</b>"
   ]
  },
  {
   "cell_type": "markdown",
   "metadata": {},
   "source": [
    "$(x + y, 2x -y + z) = x(1, 2) + y(1, -1) + z(0, 1)$"
   ]
  },
  {
   "cell_type": "markdown",
   "metadata": {},
   "source": [
    "$\\left [ \\begin{array}{rcr}\n",
    "     1 & 2 \\\\\n",
    "     1 & -1 \\\\\n",
    "     0 & 1\n",
    "\\end{array} \\right ]$"
   ]
  },
  {
   "cell_type": "markdown",
   "metadata": {},
   "source": [
    "$L2 \\rightarrow L2 - L1$"
   ]
  },
  {
   "cell_type": "markdown",
   "metadata": {},
   "source": [
    "$\\left [ \\begin{array}{rcr}\n",
    "     1 & 2 \\\\\n",
    "     0 & -3 \\\\\n",
    "     0 & 1\n",
    "\\end{array} \\right ]$"
   ]
  },
  {
   "cell_type": "markdown",
   "metadata": {},
   "source": [
    "$L2 \\rightarrow \\frac{1}{3}L3$"
   ]
  },
  {
   "cell_type": "markdown",
   "metadata": {},
   "source": [
    "$\\left [ \\begin{array}{rcr}\n",
    "     1 & 2 \\\\\n",
    "     0 & -1 \\\\\n",
    "     0 & 1\n",
    "\\end{array} \\right ]$"
   ]
  },
  {
   "cell_type": "markdown",
   "metadata": {},
   "source": [
    "$L3 \\rightarrow L3 + \\frac{1}{2}L2$"
   ]
  },
  {
   "cell_type": "markdown",
   "metadata": {},
   "source": [
    "$\\left [ \\begin{array}{rcr}\n",
    "     1 & 2 \\\\\n",
    "     0 & -1 \\\\\n",
    "     0 & 0\n",
    "\\end{array} \\right ]$"
   ]
  },
  {
   "cell_type": "markdown",
   "metadata": {},
   "source": [
    "$Im(F) = \\{(1, 2), (0, -1)\\}$"
   ]
  },
  {
   "cell_type": "markdown",
   "metadata": {},
   "source": [
    "$Dim(Im(F)) = 2$"
   ]
  }
 ],
 "metadata": {
  "kernelspec": {
   "display_name": "Python 3",
   "language": "python",
   "name": "python3"
  },
  "language_info": {
   "codemirror_mode": {
    "name": "ipython",
    "version": 3
   },
   "file_extension": ".py",
   "mimetype": "text/x-python",
   "name": "python",
   "nbconvert_exporter": "python",
   "pygments_lexer": "ipython3",
   "version": "3.7.0"
  }
 },
 "nbformat": 4,
 "nbformat_minor": 2
}
