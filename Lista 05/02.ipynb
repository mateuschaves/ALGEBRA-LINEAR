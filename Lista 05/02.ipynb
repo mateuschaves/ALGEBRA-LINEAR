{
 "cells": [
  {
   "cell_type": "markdown",
   "metadata": {},
   "source": [
    "<b>Determine $F:IR3 → IR3$ o operador linear definido na base canônica por</b>"
   ]
  },
  {
   "cell_type": "markdown",
   "metadata": {},
   "source": [
    "$F(1,0,0) = (2,3,1)$<br>\n",
    "$F(0,1,0) = (5,2,7)$<br>\n",
    "$F(0,0,1) = (−2,0,7)$"
   ]
  },
  {
   "cell_type": "markdown",
   "metadata": {},
   "source": [
    "$F(x, y, z) = F(x(1, 0, 0)) + F(y(0, 1, 0)) + F(z(0, 0, 1))$"
   ]
  },
  {
   "cell_type": "markdown",
   "metadata": {},
   "source": [
    "$F(x, y, z) = xF(1, 0, 0) + yF(0, 1, 0) + zF(0, 0, 1)$"
   ]
  },
  {
   "cell_type": "markdown",
   "metadata": {},
   "source": [
    "$F(x, y, z) = x(2, 3, 1) + y(5, 2, 7) + z(-2, 0, 7)$"
   ]
  },
  {
   "cell_type": "markdown",
   "metadata": {},
   "source": [
    "$F(x, y, z) = (2x, 3x, x) + (5y, 2y, 7y) + (-2z, 0, 7z)$"
   ]
  },
  {
   "cell_type": "markdown",
   "metadata": {},
   "source": [
    "$F(x, y, z) = (2x + 5y - 2z, 3x + 2y, x + 7y + 7z)$"
   ]
  }
 ],
 "metadata": {
  "kernelspec": {
   "display_name": "Python 3",
   "language": "python",
   "name": "python3"
  },
  "language_info": {
   "codemirror_mode": {
    "name": "ipython",
    "version": 3
   },
   "file_extension": ".py",
   "mimetype": "text/x-python",
   "name": "python",
   "nbconvert_exporter": "python",
   "pygments_lexer": "ipython3",
   "version": "3.7.0"
  }
 },
 "nbformat": 4,
 "nbformat_minor": 2
}
