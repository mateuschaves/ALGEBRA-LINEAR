{
 "cells": [
  {
   "cell_type": "markdown",
   "metadata": {},
   "source": [
    "$F(x, y, z) = (2x − y + z, 0,0)$"
   ]
  },
  {
   "cell_type": "markdown",
   "metadata": {},
   "source": [
    "$v = (x_1, y_1, z_1)$"
   ]
  },
  {
   "cell_type": "markdown",
   "metadata": {},
   "source": [
    "$u = (x_2, y_2, z_2)$"
   ]
  },
  {
   "cell_type": "markdown",
   "metadata": {},
   "source": [
    "$u + v = (x_1, y_1, z_1) + (x_2, y_2, z_2)$"
   ]
  },
  {
   "cell_type": "markdown",
   "metadata": {},
   "source": [
    "$u + v = (x_1 + x_2, y_1 + y_2, z_1 + z_2)$"
   ]
  },
  {
   "cell_type": "markdown",
   "metadata": {},
   "source": [
    "$F(u + v) = ( 2 \\cdot (x_1 + x_2) - y_1 - y_2 + z_1 + z_2, 0, 0)$"
   ]
  },
  {
   "cell_type": "markdown",
   "metadata": {},
   "source": [
    "$F(u + v) = ( 2x_1 + 2x_2 - y_1 - y_2 + z_1 + z_2, 0, 0)$"
   ]
  },
  {
   "cell_type": "markdown",
   "metadata": {},
   "source": [
    "$F(v) = (2x_1 - y_1 + z_1, 0, 0)$"
   ]
  },
  {
   "cell_type": "markdown",
   "metadata": {},
   "source": [
    "$F(u) = (2x_2 - y_2 + z_2, 0, 0)$"
   ]
  },
  {
   "cell_type": "markdown",
   "metadata": {},
   "source": [
    "$F(u) + F(v) = (2x_1 - y_1 + z_1, 0, 0) + (2x_2 - y_2 + z_2, 0, 0)$"
   ]
  },
  {
   "cell_type": "markdown",
   "metadata": {},
   "source": [
    "$F(u) + F(v) = (2x_1 + 2x_2 - y_1 - y_2 + z_1 + z_2, 0, 0)$"
   ]
  },
  {
   "cell_type": "markdown",
   "metadata": {},
   "source": [
    "$F(u) + F(v) = F(u + v)$, <b>Logo $F(x, y, z) = (2x − y + z, 0,0)$ é transformação linear</b>"
   ]
  }
 ],
 "metadata": {
  "kernelspec": {
   "display_name": "Python 3",
   "language": "python",
   "name": "python3"
  },
  "language_info": {
   "codemirror_mode": {
    "name": "ipython",
    "version": 3
   },
   "file_extension": ".py",
   "mimetype": "text/x-python",
   "name": "python",
   "nbconvert_exporter": "python",
   "pygments_lexer": "ipython3",
   "version": "3.7.0"
  }
 },
 "nbformat": 4,
 "nbformat_minor": 2
}
