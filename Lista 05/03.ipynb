{
 "cells": [
  {
   "cell_type": "markdown",
   "metadata": {},
   "source": [
    "<b>Existe um operador linear F:IR3 → IR3 onde</b>"
   ]
  },
  {
   "cell_type": "markdown",
   "metadata": {},
   "source": [
    "$F(1,1,1) = (1,2,3)$<br>\n",
    "$F(1,2,3) = (1,4,9)$<br>\n",
    "$F(2,3,4) = (1,8,27)$"
   ]
  },
  {
   "cell_type": "markdown",
   "metadata": {},
   "source": [
    "$F(x, y, z) = a(1, 1, 1) + b(1, 2, 3) + c(2, 3, 4)$"
   ]
  },
  {
   "cell_type": "markdown",
   "metadata": {},
   "source": [
    "$\\left ( \\begin{array}{rcr}\n",
    "    1 & 1 & 2 & | & x \\\\\n",
    "    1 & 2 & 3 & | & y \\\\\n",
    "    1 & 3 & 4 & | & z \\\\\n",
    "\\end{array} \\right )$"
   ]
  },
  {
   "cell_type": "markdown",
   "metadata": {},
   "source": [
    "$L2 \\rightarrow L2 - L1$"
   ]
  },
  {
   "cell_type": "markdown",
   "metadata": {},
   "source": [
    "$\\left ( \\begin{array}{rcr}\n",
    "    1 & 1 & 2 & | & x \\\\\n",
    "    0 & 1 & 1 & | & y-x \\\\\n",
    "    1 & 3 & 4 & | & z \\\\\n",
    "\\end{array} \\right )$"
   ]
  },
  {
   "cell_type": "markdown",
   "metadata": {},
   "source": [
    "$L3 \\rightarrow L3 - L1$"
   ]
  },
  {
   "cell_type": "markdown",
   "metadata": {},
   "source": [
    "$\\left ( \\begin{array}{rcr}\n",
    "    1 & 1 & 2 & | & x \\\\\n",
    "    0 & 1 & 1 & | & y-x \\\\\n",
    "    0 & 2 & 2 & | & z - x \\\\\n",
    "\\end{array} \\right )$"
   ]
  },
  {
   "cell_type": "markdown",
   "metadata": {},
   "source": [
    "$L3 \\rightarrow L3 - 2L2$"
   ]
  },
  {
   "cell_type": "markdown",
   "metadata": {},
   "source": [
    "$\\left ( \\begin{array}{rcr}\n",
    "    1 & 1 & 2 & | & x \\\\\n",
    "    0 & 1 & 1 & | & y-x \\\\\n",
    "    0 & 0 & 0 & | & (z - x) - 2(y - x) \\\\\n",
    "\\end{array} \\right )$"
   ]
  }
 ],
 "metadata": {
  "kernelspec": {
   "display_name": "Python 3",
   "language": "python",
   "name": "python3"
  },
  "language_info": {
   "codemirror_mode": {
    "name": "ipython",
    "version": 3
   },
   "file_extension": ".py",
   "mimetype": "text/x-python",
   "name": "python",
   "nbconvert_exporter": "python",
   "pygments_lexer": "ipython3",
   "version": "3.7.0"
  }
 },
 "nbformat": 4,
 "nbformat_minor": 2
}
