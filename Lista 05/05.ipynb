{
 "cells": [
  {
   "cell_type": "markdown",
   "metadata": {},
   "source": [
    "<b>Seja $F$ o operador linear de $M_2(IR)$, definidor por $F(X) = \\left ( \\begin{array}{rcr}\n",
    "     1 & 0 \\\\\n",
    "     2 & -1 \\\\\n",
    "\\end{array} \\right )x, \\delta x \\in M_2(IR)$. Determine $Ker(F)$ e uma base para o conjunto imagem de $F$. </b>"
   ]
  },
  {
   "cell_type": "markdown",
   "metadata": {},
   "source": [
    "$\\left ( \\begin{array}{rcr}\n",
    "     1 & 0 \\\\\n",
    "     2 & -1 \\\\\n",
    "\\end{array} \\right ) \\cdot \\left ( \\begin{array}{rcr}\n",
    "     x & y \\\\\n",
    "     z & t \\\\\n",
    "\\end{array} \\right )$"
   ]
  },
  {
   "cell_type": "markdown",
   "metadata": {},
   "source": [
    "$\\left ( \\begin{array}{rcr}\n",
    "     1 \\cdot x + 0 \\cdot z & 1 \\cdot y + 0 \\cdot t \\\\\n",
    "     2 \\cdot x - 1 \\cdot z & 2 \\cdot y - 1 \\cdot t \\\\\n",
    "\\end{array} \\right )$"
   ]
  },
  {
   "cell_type": "markdown",
   "metadata": {},
   "source": [
    "$\\left ( \\begin{array}{rcr}\n",
    "     x & y \\\\\n",
    "     2x - z & 2y -t \\\\\n",
    "\\end{array} \\right ) = \\left ( \\begin{array}{rcr}\n",
    "     0 & 0 \\\\\n",
    "     0 & 0 \\\\\n",
    "\\end{array} \\right )$"
   ]
  },
  {
   "cell_type": "markdown",
   "metadata": {},
   "source": [
    "$\n",
    "\\left\\{\n",
    "\\begin{array}{ll}\n",
    "         x = 0 \\\\\n",
    "    y = 0 \\\\\n",
    "    2x - z = 0 \\\\\n",
    "    2y - t = 0\n",
    "\\end{array} \\right.$"
   ]
  },
  {
   "cell_type": "markdown",
   "metadata": {},
   "source": [
    "$Ker(F) = \\left ( \\begin{array}{rcr}\n",
    "     0 & 0 \\\\\n",
    "     0 & 0 \\\\\n",
    "\\end{array} \\right )$"
   ]
  },
  {
   "cell_type": "markdown",
   "metadata": {},
   "source": [
    "$\\left ( \\begin{array}{rcr}\n",
    "     x & y \\\\\n",
    "     2x - z & 2y -t \\\\\n",
    "\\end{array} \\right ) = x\\left ( \\begin{array}{rcr}\n",
    "     1 & 0 \\\\\n",
    "     2 & 0 \\\\\n",
    "\\end{array} \\right ) + \n",
    "y\\left ( \\begin{array}{rcr}\n",
    "     0 & 1 \\\\\n",
    "     0 & 2 \\\\\n",
    "\\end{array} \\right ) + \n",
    "z\\left ( \\begin{array}{rcr}\n",
    "     0 & 0 \\\\\n",
    "     -1 & 0 \\\\\n",
    "\\end{array} \\right ) + \n",
    "t\\left ( \\begin{array}{rcr}\n",
    "     0 & 0 \\\\\n",
    "     0 & -1 \\\\\n",
    "\\end{array} \\right )$"
   ]
  }
 ],
 "metadata": {
  "kernelspec": {
   "display_name": "Python 3",
   "language": "python",
   "name": "python3"
  },
  "language_info": {
   "codemirror_mode": {
    "name": "ipython",
    "version": 3
   },
   "file_extension": ".py",
   "mimetype": "text/x-python",
   "name": "python",
   "nbconvert_exporter": "python",
   "pygments_lexer": "ipython3",
   "version": "3.7.0"
  }
 },
 "nbformat": 4,
 "nbformat_minor": 2
}
