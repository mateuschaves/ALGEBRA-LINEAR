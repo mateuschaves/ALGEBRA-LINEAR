{
 "cells": [
  {
   "cell_type": "markdown",
   "metadata": {},
   "source": [
    "<b>Mostre que o operador linear $𝐹$ de $𝐼𝑅3$\n",
    ", dado por $𝐹(𝑥, 𝑦, 𝑧) = (𝑥 + 𝑧, 𝑥 − 𝑧, 𝑦)$ é um automorfismo, ou seja\n",
    "um operador que é um isomorfismo. Determine $𝐹^{-1}$\n",
    ".</b>"
   ]
  },
  {
   "cell_type": "markdown",
   "metadata": {},
   "source": [
    "$(0, 0, 0) = (x + z, x - z, y)$"
   ]
  },
  {
   "cell_type": "markdown",
   "metadata": {},
   "source": [
    "$\\left\\{\n",
    "\\begin{array}{ll}\n",
    "         x + z = 0 \\\\\n",
    "         x - z = 0 \\\\\n",
    "         y = 0\n",
    "\\end{array} \\right.$"
   ]
  },
  {
   "cell_type": "markdown",
   "metadata": {},
   "source": [
    "$x = - z$"
   ]
  },
  {
   "cell_type": "markdown",
   "metadata": {},
   "source": [
    "$-z - z = 0$"
   ]
  },
  {
   "cell_type": "markdown",
   "metadata": {},
   "source": [
    "$-2z = 0 $"
   ]
  },
  {
   "cell_type": "markdown",
   "metadata": {},
   "source": [
    "$z = 0$"
   ]
  },
  {
   "cell_type": "markdown",
   "metadata": {},
   "source": [
    "$Ker(F) = (0, 0, 0)$"
   ]
  },
  {
   "cell_type": "markdown",
   "metadata": {},
   "source": [
    "$(x + z, x - z, y) = x(1, 1, 0) + y(0, 0, 1) + z(1, -1, 0)$"
   ]
  },
  {
   "cell_type": "markdown",
   "metadata": {},
   "source": [
    "$Im(\\{ (1, 1, 0), (0, 0, 1), (1, -1, 0) \\})$"
   ]
  },
  {
   "cell_type": "markdown",
   "metadata": {},
   "source": [
    "$\\left ( \\begin{array}{rcr}\n",
    "     1 & 1 & 0 & | & 1 & 0 & 0 \\\\\n",
    "     0 & 0 & 1 & | & 0 & 1 & 0 \\\\\n",
    "     1 & -1 & 0& | & 0 & 0 & 1\n",
    "\\end{array} \\right )$"
   ]
  },
  {
   "cell_type": "markdown",
   "metadata": {},
   "source": [
    "$L3 \\rightarrow L3 - L1$"
   ]
  },
  {
   "cell_type": "markdown",
   "metadata": {},
   "source": [
    "$\\left ( \\begin{array}{rcr}\n",
    "     1 & 1 & 0 & | & 1 & 0 & 0\\\\\n",
    "     0 & 0 & 1 & | & 0 & 1 & 0\\\\\n",
    "     0 & -2 & 0& | & -1 & 0 & 1\n",
    "\\end{array} \\right )$"
   ]
  },
  {
   "cell_type": "markdown",
   "metadata": {},
   "source": [
    "$L2 \\leftrightarrow L3$"
   ]
  },
  {
   "cell_type": "markdown",
   "metadata": {},
   "source": [
    "$\\left ( \\begin{array}{rcr}\n",
    "     1 & 1 & 0 & | & 1 & 0 & 0\\\\\n",
    "     0 & -2 & 0 & | & -1 & 0 & 1 \\\\\n",
    "     0 & 0 & 1 & | & 0 & 1 & 0\n",
    "\\end{array} \\right )$"
   ]
  },
  {
   "cell_type": "markdown",
   "metadata": {},
   "source": [
    "$L1 \\rightarrow L1 + \\frac{1}{2}L2$"
   ]
  },
  {
   "cell_type": "markdown",
   "metadata": {},
   "source": [
    "$\\left ( \\begin{array}{rcr}\n",
    "     1 & 0 & 0 & | & \\frac{1}{2} & 0 & \\frac{1}{2}\\\\\n",
    "     0 & -2 & 0 & | & -1 & 0 & 1\\\\\n",
    "     0 & 0 & 1 & | & 0 & 1 & 0\n",
    "\\end{array} \\right )$"
   ]
  },
  {
   "cell_type": "markdown",
   "metadata": {},
   "source": [
    "$L2 \\rightarrow -\\frac{1}{2}L2$"
   ]
  },
  {
   "cell_type": "markdown",
   "metadata": {},
   "source": [
    "$\\left ( \\begin{array}{rcr}\n",
    "     1 & 0 & 0 & | & \\frac{1}{2} & 0 & \\frac{1}{2} \\\\\n",
    "     0 & 1 & 0 & | & \\frac{1}{2} & 0 & -\\frac{1}{2} \\\\\n",
    "     0 & 0 & 1 & | & 0 & 1 & 0 \n",
    "\\end{array} \\right )$"
   ]
  },
  {
   "cell_type": "markdown",
   "metadata": {},
   "source": [
    "<b>Bases: </b>$ \\{ (1, 1, 0), (0, 0, 1), (1, -1, 0) \\}$"
   ]
  },
  {
   "cell_type": "markdown",
   "metadata": {},
   "source": [
    "$dim(Im(F)) = dim(IR3)$"
   ]
  }
 ],
 "metadata": {
  "kernelspec": {
   "display_name": "Python 3",
   "language": "python",
   "name": "python3"
  },
  "language_info": {
   "codemirror_mode": {
    "name": "ipython",
    "version": 3
   },
   "file_extension": ".py",
   "mimetype": "text/x-python",
   "name": "python",
   "nbconvert_exporter": "python",
   "pygments_lexer": "ipython3",
   "version": "3.7.0"
  }
 },
 "nbformat": 4,
 "nbformat_minor": 2
}
