{
 "cells": [
  {
   "cell_type": "markdown",
   "metadata": {},
   "source": [
    "<b>Determine $x, y$ e $z$ de forma que a matriz abaixo seja ortogonal:</b>"
   ]
  },
  {
   "cell_type": "markdown",
   "metadata": {},
   "source": [
    "$ A = \\left ( \\begin{array}{rcr}\n",
    "    1 & 0 & 0 \\\\\n",
    "    0 & \\frac{1}{\\sqrt{2}} & \\frac{1}{\\sqrt{2}} \\\\\n",
    "    x & y & z\n",
    "\\end{array} \\right )$"
   ]
  },
  {
   "cell_type": "markdown",
   "metadata": {},
   "source": [
    "$ \\left ( \\begin{array}{rcr}\n",
    "    1 & 0 & 0 \\\\\n",
    "    0 & \\frac{1}{\\sqrt{2}} & \\frac{1}{\\sqrt{2}} \\\\\n",
    "    x & y & z\n",
    "\\end{array} \\right ) \\cdot\n",
    "\\left ( \\begin{array}{rcr}\n",
    "    1 & 0 & x \\\\\n",
    "    0 & \\frac{1}{\\sqrt{2}} & y \\\\\n",
    "    0 & \\frac{1}{\\sqrt{2}}  & z\n",
    "\\end{array} \\right )  = \n",
    "\\left ( \\begin{array}{rcr}\n",
    "    1 & 0 & 0 \\\\\n",
    "    0 & 1 & 0 \\\\\n",
    "    0 & 0 & 1\n",
    "\\end{array} \\right )$"
   ]
  },
  {
   "cell_type": "markdown",
   "metadata": {},
   "source": [
    "$\\left ( \\begin{array}{rcr}\n",
    "    1 \\cdot 1 + 0 \\cdot 0 + 0 \\cdot 0 & 1 \\cdot 0 + 0 \\cdot \\frac{1}{\\sqrt{2}} + 0 \\cdot \\frac{1}{\\sqrt{2}} & 1 \\cdot x + 0 \\cdot y + 0\\cdot z\\\\\n",
    "    0 \\cdot 1 +  \\frac{1}{\\sqrt{2}} \\cdot 0 + \\frac{1}{\\sqrt{2}} \\cdot 0 & 0 \\cdot 0 + \\frac{1}{\\sqrt{2}} \\cdot \\frac{1}{\\sqrt{2}} + \\frac{1}{\\sqrt{2}} \\cdot \\frac{1}{\\sqrt{2}} & 0 \\cdot x + \\frac{1}{\\sqrt{2}} \\cdot y + \\frac{1}{\\sqrt{2}} \\cdot z  \\\\\n",
    "    x \\cdot 1 + y \\cdot 0 + z \\cdot 0 & x \\cdot 0 + y \\cdot \\frac{1}{\\sqrt{2}} + z \\cdot \\frac{1}{\\sqrt{2}} & x \\cdot x + y \\cdot y + z \\cdot z\n",
    "\\end{array} \\right )$"
   ]
  },
  {
   "cell_type": "markdown",
   "metadata": {},
   "source": [
    "$\\left ( \\begin{array}{rcr}\n",
    "    1 & 0 & x \\\\\n",
    "    0 & 1 & \\frac{y + z}{\\sqrt{2}} \\\\\n",
    "    x & \\frac{y + z}{\\sqrt{2}} & x^2 + y^2 + z^2\n",
    "\\end{array} \\right ) = \n",
    "\\left ( \\begin{array}{rcr}\n",
    "    1 & 0 & 0 \\\\\n",
    "    0 & 1 & 0 \\\\\n",
    "    0 & 0 & 1\n",
    "\\end{array} \\right )$"
   ]
  },
  {
   "cell_type": "markdown",
   "metadata": {},
   "source": [
    "$S: \\begin{cases}\n",
    "x  = 0 \\\\\n",
    "\\frac{y + z}{\\sqrt{2}} = 0\\\\\n",
    "x^2 + y^2 + z^2 = 1 \\\\\n",
    "\\end{cases} $ "
   ]
  },
  {
   "cell_type": "markdown",
   "metadata": {},
   "source": [
    "$y + z = 0$"
   ]
  },
  {
   "cell_type": "markdown",
   "metadata": {},
   "source": [
    "$y = -z$"
   ]
  },
  {
   "cell_type": "markdown",
   "metadata": {},
   "source": [
    "$0^2 + (-z)^2 + z^2 = 1$"
   ]
  },
  {
   "cell_type": "markdown",
   "metadata": {},
   "source": [
    "$2z^2 = 1$"
   ]
  },
  {
   "cell_type": "markdown",
   "metadata": {},
   "source": [
    "$z^2 = \\frac{1}{2}$"
   ]
  },
  {
   "cell_type": "markdown",
   "metadata": {},
   "source": [
    "$x = 0$"
   ]
  },
  {
   "cell_type": "markdown",
   "metadata": {},
   "source": [
    "$z = \\frac{1}{\\sqrt{2}}$"
   ]
  },
  {
   "cell_type": "markdown",
   "metadata": {},
   "source": [
    "$y = -\\frac{1}{\\sqrt{2}}$"
   ]
  }
 ],
 "metadata": {
  "kernelspec": {
   "display_name": "Python 3",
   "language": "python",
   "name": "python3"
  },
  "language_info": {
   "codemirror_mode": {
    "name": "ipython",
    "version": 3
   },
   "file_extension": ".py",
   "mimetype": "text/x-python",
   "name": "python",
   "nbconvert_exporter": "python",
   "pygments_lexer": "ipython3",
   "version": "3.7.0"
  }
 },
 "nbformat": 4,
 "nbformat_minor": 2
}
