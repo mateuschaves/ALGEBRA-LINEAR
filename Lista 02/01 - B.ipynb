{
 "cells": [
  {
   "cell_type": "markdown",
   "metadata": {},
   "source": [
    "<b>Verifique se a matriz abaixo possui inversa e, em caso afirmativo, determine-a.\n",
    "</b>"
   ]
  },
  {
   "cell_type": "markdown",
   "metadata": {},
   "source": [
    "$A = \\left [ \\begin{array}{rcr}\n",
    "    1 & 2 & 2 \\\\\n",
    "    0 & 1 & 2 \\\\\n",
    "    1 & 3 & 4\n",
    "\\end{array} \\right ]$"
   ]
  },
  {
   "cell_type": "markdown",
   "metadata": {},
   "source": [
    "<b>$det \\left [ \\begin{array}{rcr}\n",
    "    1 & 2 & 2 \\\\\n",
    "    0 & 1 & 2 \\\\\n",
    "    1 & 3 & 4\n",
    "\\end{array} \\right ]  = 0$</b>"
   ]
  },
  {
   "cell_type": "markdown",
   "metadata": {},
   "source": [
    "<b>Não possui matriz inversa</b>"
   ]
  }
 ],
 "metadata": {
  "kernelspec": {
   "display_name": "Python 3",
   "language": "python",
   "name": "python3"
  },
  "language_info": {
   "codemirror_mode": {
    "name": "ipython",
    "version": 3
   },
   "file_extension": ".py",
   "mimetype": "text/x-python",
   "name": "python",
   "nbconvert_exporter": "python",
   "pygments_lexer": "ipython3",
   "version": "3.7.0"
  }
 },
 "nbformat": 4,
 "nbformat_minor": 2
}
