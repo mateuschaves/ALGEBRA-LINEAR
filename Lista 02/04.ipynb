{
 "cells": [
  {
   "cell_type": "markdown",
   "metadata": {},
   "source": [
    "<b> Sabendo disso, determine se possível x e y de forma que a matriz abaixo seja ortogonal: </b>"
   ]
  },
  {
   "cell_type": "markdown",
   "metadata": {},
   "source": [
    "$ A = \\left ( \\begin{array}{rcr}\n",
    "    \\sqrt{2} & x \\\\\n",
    "    y & \\sqrt{2}\n",
    "\\end{array} \\right )$"
   ]
  },
  {
   "cell_type": "markdown",
   "metadata": {},
   "source": [
    "$\\left ( \\begin{array}{rcr}\n",
    "    \\sqrt{2} & x \\\\\n",
    "    y & \\sqrt{2}\n",
    "\\end{array} \\right ) \\cdot \\left ( \\begin{array}{rcr}\n",
    "    \\sqrt{2} & y \\\\\n",
    "    x & \\sqrt{2}\n",
    "\\end{array} \\right ) = \\left ( \\begin{array}{rcr}\n",
    "    1 & 0 \\\\\n",
    "    0 & 1\n",
    "\\end{array} \\right )$"
   ]
  },
  {
   "cell_type": "markdown",
   "metadata": {},
   "source": [
    "$\\left ( \\begin{array}{rcr}\n",
    "    2 + x^2 & \\sqrt{2}y + \\sqrt{2}x \\\\\n",
    "    \\sqrt{2}y + \\sqrt{2}x & y^2 + 2\n",
    "\\end{array} \\right ) = \\left ( \\begin{array}{rcr}\n",
    "    1 & 0 \\\\\n",
    "    0 & 1\n",
    "\\end{array} \\right ) $"
   ]
  },
  {
   "cell_type": "markdown",
   "metadata": {},
   "source": [
    "$S: \\begin{cases}\n",
    "2 + x^2 = 1 \\\\\n",
    "\\sqrt{2}y + \\sqrt{2}x = 0 \\\\\n",
    "y^2 + 2 = 0\n",
    "\\end{cases} $ "
   ]
  },
  {
   "cell_type": "markdown",
   "metadata": {},
   "source": [
    "$S: \\begin{cases}\n",
    "x^2 = -1 \\\\\n",
    "\\sqrt{2}y + \\sqrt{2}x = 0 \\\\\n",
    "y^2 = -2\n",
    "\\end{cases} $ "
   ]
  }
 ],
 "metadata": {
  "kernelspec": {
   "display_name": "Python 3",
   "language": "python",
   "name": "python3"
  },
  "language_info": {
   "codemirror_mode": {
    "name": "ipython",
    "version": 3
   },
   "file_extension": ".py",
   "mimetype": "text/x-python",
   "name": "python",
   "nbconvert_exporter": "python",
   "pygments_lexer": "ipython3",
   "version": "3.7.0"
  }
 },
 "nbformat": 4,
 "nbformat_minor": 2
}
