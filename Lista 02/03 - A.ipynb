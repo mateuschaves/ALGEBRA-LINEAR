{
 "cells": [
  {
   "cell_type": "markdown",
   "metadata": {},
   "source": [
    "<b>Resolva os seguintes sistemas de Cramer:</b>"
   ]
  },
  {
   "cell_type": "markdown",
   "metadata": {},
   "source": [
    "$S: \\begin{cases}\n",
    "x - y = 4 \\\\\n",
    "x + y = 0 \\\\\n",
    "\\end{cases} $ "
   ]
  },
  {
   "cell_type": "markdown",
   "metadata": {},
   "source": [
    "<b>Notação matricial</b>"
   ]
  },
  {
   "cell_type": "markdown",
   "metadata": {},
   "source": [
    "$S : \\left [ \\begin{array}{rcr}\n",
    "    1 & -1 \\\\\n",
    "    1 & 1\n",
    "\\end{array} \\right ]$"
   ]
  },
  {
   "cell_type": "markdown",
   "metadata": {},
   "source": [
    "$det(S) = 1 - (-1) = 2$"
   ]
  },
  {
   "cell_type": "markdown",
   "metadata": {},
   "source": [
    "$det_x\\left  (\\begin{array}{rcr}\n",
    "    4 & -1 \\\\\n",
    "    0 & 1\n",
    "\\end{array} \\right ) = 4$"
   ]
  },
  {
   "cell_type": "markdown",
   "metadata": {},
   "source": [
    "$det_y\\left  (\\begin{array}{rcr}\n",
    "    1 & 4 \\\\\n",
    "    1 & 0\n",
    "\\end{array} \\right ) = -4$"
   ]
  },
  {
   "cell_type": "markdown",
   "metadata": {},
   "source": [
    "$x = \\frac{det_x}{det} = \\frac{4}{2} = 2$"
   ]
  },
  {
   "cell_type": "markdown",
   "metadata": {},
   "source": [
    "$y = \\frac{det_y}{det} = \\frac{-4}{2} = -2$"
   ]
  }
 ],
 "metadata": {
  "kernelspec": {
   "display_name": "Python 3",
   "language": "python",
   "name": "python3"
  },
  "language_info": {
   "codemirror_mode": {
    "name": "ipython",
    "version": 3
   },
   "file_extension": ".py",
   "mimetype": "text/x-python",
   "name": "python",
   "nbconvert_exporter": "python",
   "pygments_lexer": "ipython3",
   "version": "3.7.0"
  }
 },
 "nbformat": 4,
 "nbformat_minor": 2
}
