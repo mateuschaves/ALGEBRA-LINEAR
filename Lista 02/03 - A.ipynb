{
 "cells": [
  {
   "cell_type": "markdown",
   "metadata": {},
   "source": [
    "<b>Resolva os seguintes sistemas de Cramer:</b>"
   ]
  },
  {
   "cell_type": "markdown",
   "metadata": {},
   "source": [
    "$S: \\begin{cases}\n",
    "x - y = 4 \\\\\n",
    "x + y = 0 \\\\\n",
    "\\end{cases} $ "
   ]
  },
  {
   "cell_type": "markdown",
   "metadata": {},
   "source": [
    "<b>Notação matricial</b>"
   ]
  },
  {
   "cell_type": "markdown",
   "metadata": {},
   "source": [
    "$S : \\left [ \\begin{array}{rcr}\n",
    "    1 & -1 \\\\\n",
    "    1 & 1\n",
    "\\end{array} \\right ]$"
   ]
  },
  {
   "cell_type": "markdown",
   "metadata": {},
   "source": [
    "$det(S) = 1 - (-1) = 2$"
   ]
  },
  {
   "cell_type": "markdown",
   "metadata": {},
   "source": [
    "<b>Achando a matriz inversa</b>"
   ]
  },
  {
   "cell_type": "markdown",
   "metadata": {},
   "source": [
    "$\\left [ \\begin{array}{rcr}\n",
    "    1 & -1 & 1 & 0 \\\\\n",
    "    1 & 1 & 0 & 1\n",
    "\\end{array} \\right ]$"
   ]
  },
  {
   "cell_type": "markdown",
   "metadata": {},
   "source": [
    "1º Passo $-1L1 + L2 \\rightarrow L2$"
   ]
  },
  {
   "cell_type": "markdown",
   "metadata": {},
   "source": [
    "$\\left [ \\begin{array}{rcr}\n",
    "    1 & -1 & 1 & 0 \\\\\n",
    "    0 & 2 & -1 & 1\n",
    "\\end{array} \\right ]$"
   ]
  },
  {
   "cell_type": "markdown",
   "metadata": {},
   "source": [
    "2º Passo $\\frac{1}{2}L2 + L1 \\rightarrow L1$"
   ]
  },
  {
   "cell_type": "markdown",
   "metadata": {},
   "source": [
    "$\\left [ \\begin{array}{rcr}\n",
    "    1 & 0 & \\frac{1}{2} & \\frac{1}{2} \\\\\n",
    "    0 & 2 & -1 & 1\n",
    "\\end{array} \\right ]$"
   ]
  },
  {
   "cell_type": "markdown",
   "metadata": {},
   "source": [
    "3º Passo $\\frac{1}{2}L2 \\rightarrow L2$"
   ]
  },
  {
   "cell_type": "markdown",
   "metadata": {},
   "source": [
    "$\\left [ \\begin{array}{rcr}\n",
    "    1 & 0 & \\frac{1}{2} & \\frac{1}{2} \\\\\n",
    "    0 & 1 & -\\frac{1}{2} & \\frac{1}{2}\n",
    "\\end{array} \\right ]$"
   ]
  },
  {
   "cell_type": "markdown",
   "metadata": {},
   "source": [
    "$S^{-1} = \\left [ \\begin{array}{rcr}\n",
    "    \\frac{1}{2} & \\frac{1}{2} \\\\\n",
    "    -\\frac{1}{2} & \\frac{1}{2}\n",
    "\\end{array} \\right ]$"
   ]
  },
  {
   "cell_type": "markdown",
   "metadata": {},
   "source": [
    "$\\left [ \\begin{array}{rcr}\n",
    "    \\frac{1}{2} & \\frac{1}{2} \\\\\n",
    "    -\\frac{1}{2} & \\frac{1}{2}\n",
    "\\end{array} \\right ] \\cdot \\left [ \\begin{array}{rcr}\n",
    "      4  \\\\\n",
    "      0\n",
    "\\end{array} \\right ] = \\left [ \\begin{array}{rcr}\n",
    "      \\frac{1}{2} \\cdot 4 + \\frac{1}{2} \\cdot 0  \\\\\n",
    "      -\\frac{1}{2} \\cdot 4 + \\frac{1}{2} \\cdot 0\n",
    "\\end{array} \\right ]$"
   ]
  },
  {
   "cell_type": "markdown",
   "metadata": {},
   "source": [
    "$\\left [ \\begin{array}{rcr}\n",
    "    \\frac{1}{2} & \\frac{1}{2} \\\\\n",
    "    -\\frac{1}{2} & \\frac{1}{2}\n",
    "\\end{array} \\right ] \\cdot \\left [ \\begin{array}{rcr}\n",
    "      4  \\\\\n",
    "      0\n",
    "\\end{array} \\right ] = \\left [ \\begin{array}{rcr}\n",
    "    2 \\\\\n",
    "    -2\n",
    "\\end{array} \\right ]$"
   ]
  }
 ],
 "metadata": {
  "kernelspec": {
   "display_name": "Python 3",
   "language": "python",
   "name": "python3"
  },
  "language_info": {
   "codemirror_mode": {
    "name": "ipython",
    "version": 3
   },
   "file_extension": ".py",
   "mimetype": "text/x-python",
   "name": "python",
   "nbconvert_exporter": "python",
   "pygments_lexer": "ipython3",
   "version": "3.7.0"
  }
 },
 "nbformat": 4,
 "nbformat_minor": 2
}
