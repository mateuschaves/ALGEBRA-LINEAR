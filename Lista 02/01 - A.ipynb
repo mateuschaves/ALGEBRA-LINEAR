{
 "cells": [
  {
   "cell_type": "markdown",
   "metadata": {},
   "source": [
    "<b>Verifique se a matriz abaixo possui inversa e, em caso afirmativo, determine-a.\n",
    "</b>"
   ]
  },
  {
   "cell_type": "markdown",
   "metadata": {},
   "source": [
    "$A = \\left [ \\begin{array}{rcr}\n",
    "    1 & 2 \\\\\n",
    "    3 & 4\n",
    "\\end{array} \\right ]$"
   ]
  },
  {
   "cell_type": "markdown",
   "metadata": {},
   "source": [
    "<b>Preparando a matriz</b>"
   ]
  },
  {
   "cell_type": "markdown",
   "metadata": {},
   "source": [
    "$\\left [ \\begin{array}{rcr}\n",
    "    1 & 2 & 1 & 0 \\\\\n",
    "    3 & 4 & 0 & 1\n",
    "\\end{array} \\right ]$"
   ]
  },
  {
   "cell_type": "markdown",
   "metadata": {},
   "source": [
    "<b>$1º $ Passo $3L1 - L2 \\rightarrow L2$</b>"
   ]
  },
  {
   "cell_type": "markdown",
   "metadata": {},
   "source": [
    "$\\left [ \\begin{array}{rcr}\n",
    "    1 & 2 & 1 & 0 \\\\\n",
    "    0 & 2 & 3 & -1\n",
    "\\end{array} \\right ]$"
   ]
  },
  {
   "cell_type": "markdown",
   "metadata": {},
   "source": [
    "<b>$2º$ Passo $ \\frac{1}{2}\\cdot L2 \\rightarrow L2$</b>"
   ]
  },
  {
   "cell_type": "markdown",
   "metadata": {},
   "source": [
    "$\\left [ \\begin{array}{rcr}\n",
    "    1 & 2 & 1 & 0 \\\\\n",
    "    0 & 1 & \\frac{3}{2} & -\\frac{1}{2}\n",
    "\\end{array} \\right ]$"
   ]
  },
  {
   "cell_type": "markdown",
   "metadata": {},
   "source": [
    "<b>$3º$ Passo $2L2 - L1 \\rightarrow L1$</b>"
   ]
  },
  {
   "cell_type": "markdown",
   "metadata": {},
   "source": [
    "$\\left [ \\begin{array}{rcr}\n",
    "    -1 & 0 & 2 & -1 \\\\\n",
    "    0 & 1 & \\frac{3}{2} & -\\frac{1}{2}\n",
    "\\end{array} \\right ]$"
   ]
  },
  {
   "cell_type": "markdown",
   "metadata": {},
   "source": [
    "<b>$4º$ Passo $(-1) \\cdot L1 \\rightarrow  L1$</b>"
   ]
  },
  {
   "cell_type": "markdown",
   "metadata": {},
   "source": [
    "$\\left [ \\begin{array}{rcr}\n",
    "    1 & 0 & -2 & 1\\\\\n",
    "    0 & 1 & \\frac{3}{2} & -\\frac{1}{2}\n",
    "\\end{array} \\right ]$"
   ]
  },
  {
   "cell_type": "markdown",
   "metadata": {},
   "source": [
    "<b>Inversa de $A$</b>"
   ]
  },
  {
   "cell_type": "markdown",
   "metadata": {},
   "source": [
    "$A^{-1} = \\left [ \\begin{array}{rcr}\n",
    "    -2 & 1 \\\\\n",
    "    \\frac{3}{2} & -\\frac{1}{2}\n",
    "\\end{array} \\right ]$"
   ]
  }
 ],
 "metadata": {
  "kernelspec": {
   "display_name": "Python 3",
   "language": "python",
   "name": "python3"
  },
  "language_info": {
   "codemirror_mode": {
    "name": "ipython",
    "version": 3
   },
   "file_extension": ".py",
   "mimetype": "text/x-python",
   "name": "python",
   "nbconvert_exporter": "python",
   "pygments_lexer": "ipython3",
   "version": "3.7.0"
  }
 },
 "nbformat": 4,
 "nbformat_minor": 2
}
