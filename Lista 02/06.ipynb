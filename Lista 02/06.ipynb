{
 "cells": [
  {
   "cell_type": "markdown",
   "metadata": {},
   "source": [
    "<b>Determine m de forma que o sistema abaixo seja de Cramer e em seguida resolva-o: </b>"
   ]
  },
  {
   "cell_type": "markdown",
   "metadata": {},
   "source": [
    "$S: \\begin{cases}\n",
    "x - y + z = 2 \\\\\n",
    "x  + 2z = 1 \\\\\n",
    "x + 2y + mz = 0\n",
    "\\end{cases} $ "
   ]
  },
  {
   "cell_type": "markdown",
   "metadata": {},
   "source": [
    "<b>Escrevedo na forma matricial</b>"
   ]
  },
  {
   "cell_type": "markdown",
   "metadata": {},
   "source": [
    "$S: \\left ( \\begin{array}{rcr}\n",
    "    1 & -1 & 1 \\\\\n",
    "    1 & 0 & 2 \\\\\n",
    "    1 & 2 & m\n",
    "\\end{array}  \\right )$"
   ]
  },
  {
   "cell_type": "markdown",
   "metadata": {},
   "source": [
    "$\\det(S) \\neq 0$"
   ]
  },
  {
   "cell_type": "markdown",
   "metadata": {},
   "source": [
    "$det \\left ( \\begin{array}{rcr}\n",
    "    1 & -1 & 1 & 1 & -1\\\\\n",
    "    1 & 0 & 2 & 1 & 0\\\\\n",
    "    1 & 2 & m & 1 & 2\n",
    "\\end{array}  \\right ) \\neq 0 $"
   ]
  },
  {
   "cell_type": "markdown",
   "metadata": {},
   "source": [
    "$ - 2 + 2 + m - 4 \\neq 0$"
   ]
  },
  {
   "cell_type": "markdown",
   "metadata": {},
   "source": [
    "$m \\neq 4$"
   ]
  },
  {
   "cell_type": "markdown",
   "metadata": {},
   "source": [
    "$m = 5$"
   ]
  },
  {
   "cell_type": "markdown",
   "metadata": {},
   "source": [
    "<b>Achando a inversa</b>"
   ]
  },
  {
   "cell_type": "markdown",
   "metadata": {},
   "source": [
    "$\\left ( \\begin{array}{rcr}\n",
    "    1 & -1 & 1 & 1 & 0 & 0\\\\\n",
    "    1 & 0 & 2 & 0 & 1 & 0\\\\\n",
    "    1 & 2 & 5 & 0 & 0 & 1\n",
    "\\end{array}  \\right )$"
   ]
  },
  {
   "cell_type": "markdown",
   "metadata": {},
   "source": [
    "1º Passo $L3 - L2 \\rightarrow L2$"
   ]
  },
  {
   "cell_type": "markdown",
   "metadata": {},
   "source": [
    "$\\left ( \\begin{array}{rcr}\n",
    "    1 & -1 & 1 & 1 & 0 & 0\\\\\n",
    "    0 & 2 & 3 & 0 & -1 & 1\\\\\n",
    "    1 & 2 & 5 & 0 & 0 & 1\n",
    "\\end{array}  \\right )$"
   ]
  },
  {
   "cell_type": "markdown",
   "metadata": {},
   "source": [
    "2º Passo $L3 - L1 \\rightarrow L3$"
   ]
  },
  {
   "cell_type": "markdown",
   "metadata": {},
   "source": [
    "$\\left ( \\begin{array}{rcr}\n",
    "    1 & -1 & 1 & 1 & 0 & 0\\\\\n",
    "    0 & 2 & 3 & 0 & -1 & 1\\\\\n",
    "    0 & 3 & 4 & -1 & 0 & 1\n",
    "\\end{array}  \\right )$"
   ]
  },
  {
   "cell_type": "markdown",
   "metadata": {},
   "source": [
    "3º Passo $L1 + \\frac{1}{2}L2 \\rightarrow L1$"
   ]
  },
  {
   "cell_type": "markdown",
   "metadata": {},
   "source": [
    "$\\left ( \\begin{array}{rcr}\n",
    "    1 & 0 & \\frac{5}{2} & 1 & -\\frac{1}{2} & \\frac{1}{2}\\\\\n",
    "    0 & 2 & 3 & 0 & -1 & 1\\\\\n",
    "    0 & 3 & 4 & -1 & 0 & 1\n",
    "\\end{array}  \\right )$"
   ]
  },
  {
   "cell_type": "markdown",
   "metadata": {},
   "source": [
    "4º Passo $\\frac{1}{2}L2 \\rightarrow L2$"
   ]
  },
  {
   "cell_type": "markdown",
   "metadata": {},
   "source": [
    "$\\left ( \\begin{array}{rcr}\n",
    "    1 & 0 & \\frac{5}{2} & 1 & -\\frac{1}{2} & \\frac{1}{2}\\\\\n",
    "    0 & 1 & \\frac{3}{2} & 0 & -\\frac{1}{2} & \\frac{1}{2}\\\\\n",
    "    0 & 3 & 4 & -1 & 0 & 1\n",
    "\\end{array}  \\right )$"
   ]
  },
  {
   "cell_type": "markdown",
   "metadata": {},
   "source": [
    "5º Passo $L3 - 3L2 \\rightarrow L3$"
   ]
  },
  {
   "cell_type": "markdown",
   "metadata": {},
   "source": [
    "$\\left ( \\begin{array}{rcr}\n",
    "    1 & 0 & \\frac{5}{2} & 1 & -\\frac{1}{2} & \\frac{1}{2}\\\\\n",
    "    0 & 1 & \\frac{3}{2} & 0 & -\\frac{1}{2} & \\frac{1}{2}\\\\\n",
    "    0 & 0 & -\\frac{1}{2} & -1 & \\frac{3}{2} & -\\frac{1}{2}\n",
    "\\end{array}  \\right )$"
   ]
  },
  {
   "cell_type": "markdown",
   "metadata": {},
   "source": [
    "6º Passo $-2L3 \\rightarrow L3$"
   ]
  },
  {
   "cell_type": "markdown",
   "metadata": {},
   "source": [
    "$\\left ( \\begin{array}{rcr}\n",
    "    1 & 0 & \\frac{5}{2} & 1 & -\\frac{1}{2} & \\frac{1}{2}\\\\\n",
    "    0 & 1 & \\frac{3}{2} & 0 & -\\frac{1}{2} & \\frac{1}{2}\\\\\n",
    "    0 & 0 & 1 & 2 & -3 & 1\n",
    "\\end{array}  \\right )$"
   ]
  },
  {
   "cell_type": "markdown",
   "metadata": {},
   "source": [
    "7º Passo $-\\frac{5}{2}L3 + L1 \\rightarrow L1$"
   ]
  },
  {
   "cell_type": "markdown",
   "metadata": {},
   "source": [
    "$\\left ( \\begin{array}{rcr}\n",
    "    1 & 0 & 0 & -4 & 7 & -2\\\\\n",
    "    0 & 1 & \\frac{3}{2} & 0 & -\\frac{1}{2} & \\frac{1}{2}\\\\\n",
    "    0 & 0 & 1 & 2 & -3 & 1\n",
    "\\end{array}  \\right )$"
   ]
  },
  {
   "cell_type": "markdown",
   "metadata": {},
   "source": [
    "8º Passo $-\\frac{3}{2}L3 + L2 \\rightarrow L2$"
   ]
  },
  {
   "cell_type": "markdown",
   "metadata": {},
   "source": [
    "$\\left ( \\begin{array}{rcr}\n",
    "    1 & 0 & 0 & -4 & 7 & -2\\\\\n",
    "    0 & 1 & 0 & -3 & 4 & -1\\\\\n",
    "    0 & 0 & 1 & 2 & -3 & 1\n",
    "\\end{array}  \\right )$"
   ]
  },
  {
   "cell_type": "markdown",
   "metadata": {},
   "source": [
    "$S^{-1}: \\left ( \\begin{array}{rcr}\n",
    "    -4 & 7 & -2 \\\\\n",
    "    -3 & 4 & -1 \\\\\n",
    "    2 & -3 & 1\n",
    "\\end{array}  \\right )$"
   ]
  },
  {
   "cell_type": "markdown",
   "metadata": {},
   "source": [
    "$\\left ( \\begin{array}{rcr}\n",
    "    -4 & 7 & -2 \\\\\n",
    "    -3 & 4 & -1 \\\\\n",
    "    2 & -3 & 1\n",
    "\\end{array}  \\right ) \\cdot \\left ( \\begin{array}{rcr}\n",
    "    2 \\\\\n",
    "    1\\\\\n",
    "    0 \n",
    "\\end{array}  \\right ) = \\left ( \\begin{array}{rcr}\n",
    "    -1  \\\\\n",
    "    -2    \\\\\n",
    "     1\n",
    "\\end{array}  \\right )$"
   ]
  }
 ],
 "metadata": {
  "kernelspec": {
   "display_name": "Python 3",
   "language": "python",
   "name": "python3"
  },
  "language_info": {
   "codemirror_mode": {
    "name": "ipython",
    "version": 3
   },
   "file_extension": ".py",
   "mimetype": "text/x-python",
   "name": "python",
   "nbconvert_exporter": "python",
   "pygments_lexer": "ipython3",
   "version": "3.7.0"
  }
 },
 "nbformat": 4,
 "nbformat_minor": 2
}
