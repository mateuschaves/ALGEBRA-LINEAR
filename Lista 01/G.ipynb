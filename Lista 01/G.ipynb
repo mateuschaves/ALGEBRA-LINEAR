{
 "cells": [
  {
   "cell_type": "markdown",
   "metadata": {},
   "source": [
    "<b>Considere as matrizes abaixo: </b>"
   ]
  },
  {
   "cell_type": "markdown",
   "metadata": {},
   "source": [
    "$A = \\left [ \\begin{array}{rcr}\n",
    "    3 & 0 \\\\\n",
    "    -1 & 2 \\\\\n",
    "    1 & 1\n",
    "\\end{array} \\right ],$\n",
    "$B = \\left [ \\begin{array}{rcr}\n",
    "    4 & -1 \\\\\n",
    "    0 & 2\n",
    "\\end{array} \\right ],$\n",
    "$C = \\left [ \\begin{array}{rcr}\n",
    "    1 & 4 & 2 \\\\\n",
    "    3 & 1 & 5\n",
    "\\end{array} \\right ]$\n",
    "$D = \\left [ \\begin{array}{rcr}\n",
    "    1 & 5 & 2 \\\\\n",
    "    -1 & 0 & 1 \\\\\n",
    "    3 & 2 & 4\n",
    "\\end{array} \\right ]$\n",
    "$E = \\left [ \\begin{array}{rcr}\n",
    "    6 & 1 & 3 \\\\\n",
    "    -1 & 1 & 2 \\\\\n",
    "    4 & 1 & 3\n",
    "\\end{array} \\right ]$"
   ]
  },
  {
   "cell_type": "markdown",
   "metadata": {},
   "source": [
    "<b>G) $(-AC)^t + 5D^t$</b>"
   ]
  },
  {
   "cell_type": "markdown",
   "metadata": {},
   "source": [
    "<b>Determinando $-A$</b>"
   ]
  },
  {
   "cell_type": "markdown",
   "metadata": {},
   "source": [
    "$-A = \\left [ \\begin{array}{rcr}\n",
    "    -3 & 0 \\\\\n",
    "    1 & -2 \\\\\n",
    "    -1 & -1\n",
    "\\end{array} \\right ]  $"
   ]
  },
  {
   "cell_type": "markdown",
   "metadata": {},
   "source": [
    "<b>Determinando $-AC$</b>"
   ]
  },
  {
   "cell_type": "markdown",
   "metadata": {},
   "source": [
    "$-AC = \\left [ \\begin{array}{rcr}\n",
    "    -3 \\cdot 1 + 0 \\cdot 3 & -3 \\cdot 4 + 0 \\cdot 1 & -3 \\cdot 2 + 0 \\cdot 5 \\\\\n",
    "    1 \\cdot 1 + (-2) \\cdot 3 & 1 \\cdot 4 + (-2) \\cdot 1  & 1 \\cdot 2 + (-2) \\cdot 5 \\\\\n",
    "    -1 \\cdot 1 + (-1) \\cdot 3 &  -1 \\cdot 4 + (-1) \\cdot 1 & (-1) \\cdot 2 + (-1) \\cdot 5\n",
    "\\end{array} \\right ]$"
   ]
  },
  {
   "cell_type": "markdown",
   "metadata": {},
   "source": [
    "$-AC = \\left [ \\begin{array}{rcr}\n",
    "    -3 & -12 & -6 \\\\\n",
    "    -5 & 2 & -8 \\\\\n",
    "    -4 & -5 & -7\n",
    "\\end{array} \\right ]$"
   ]
  },
  {
   "cell_type": "markdown",
   "metadata": {},
   "source": [
    "$(-AC)^t = \\left [ \\begin{array}{rcr}\n",
    "    -3 & -5 & -4 \\\\\n",
    "    -12 & 2 & -5 \\\\\n",
    "    -6 & -8 & -7\n",
    "\\end{array} \\right ]$"
   ]
  },
  {
   "cell_type": "markdown",
   "metadata": {},
   "source": [
    "<b>Calculando $D^t$</b>"
   ]
  },
  {
   "cell_type": "markdown",
   "metadata": {},
   "source": [
    "$ D^t = \\left [ \\begin{array}{rcr}\n",
    "    1 & -1 & 3 \\\\\n",
    "    5 & 0 & 2 \\\\\n",
    "    2 & 1 & 4\n",
    "\\end{array} \\right ]$"
   ]
  },
  {
   "cell_type": "markdown",
   "metadata": {},
   "source": [
    "<b>Calculando $5D^t$</b>"
   ]
  },
  {
   "cell_type": "markdown",
   "metadata": {},
   "source": [
    "$5D^t = \\left [ \\begin{array}{rcr}\n",
    "    5 \\cdot 1 & 5 \\cdot (-1) & 5 \\cdot 3 \\\\\n",
    "    5 \\cdot 5 & 5 \\cdot 0 & 5 \\cdot 4 \\\\\n",
    "    5 \\cdot 2 & 5 \\cdot 1 & 5 \\cdot 4\n",
    "\\end{array} \\right ]$"
   ]
  },
  {
   "cell_type": "markdown",
   "metadata": {},
   "source": [
    "$5D^t = \\left [ \\begin{array}{rcr}\n",
    "    5 & -5 & 15 \\\\\n",
    "    25 & 0 & 20 \\\\\n",
    "    10 & 5 & 20\n",
    "\\end{array} \\right ]$"
   ]
  },
  {
   "cell_type": "markdown",
   "metadata": {},
   "source": [
    "<b>Calculando $(-AC)^t + 5D^t$</b>"
   ]
  },
  {
   "cell_type": "markdown",
   "metadata": {},
   "source": [
    "$ (-AC)^t + 5D^t = \\left [ \\begin{array}{rcr}\n",
    "    2 & -10 & 11 \\\\\n",
    "    13 & 0 & 22 \\\\\n",
    "    12 & -3 & 24\n",
    "\\end{array} \\right ]$"
   ]
  }
 ],
 "metadata": {
  "kernelspec": {
   "display_name": "Python 3",
   "language": "python",
   "name": "python3"
  },
  "language_info": {
   "codemirror_mode": {
    "name": "ipython",
    "version": 3
   },
   "file_extension": ".py",
   "mimetype": "text/x-python",
   "name": "python",
   "nbconvert_exporter": "python",
   "pygments_lexer": "ipython3",
   "version": "3.7.0"
  }
 },
 "nbformat": 4,
 "nbformat_minor": 2
}
