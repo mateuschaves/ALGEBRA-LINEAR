{
 "cells": [
  {
   "cell_type": "markdown",
   "metadata": {},
   "source": [
    "<b>Considere as matrizes abaixo: </b>"
   ]
  },
  {
   "cell_type": "markdown",
   "metadata": {},
   "source": [
    "$A = \\left [ \\begin{array}{rcr}\n",
    "    3 & 0 \\\\\n",
    "    -1 & 2 \\\\\n",
    "    1 & 1\n",
    "\\end{array} \\right ],$\n",
    "$B = \\left [ \\begin{array}{rcr}\n",
    "    4 & -1 \\\\\n",
    "    0 & 2\n",
    "\\end{array} \\right ],$\n",
    "$C = \\left [ \\begin{array}{rcr}\n",
    "    1 & 4 & 2 \\\\\n",
    "    3 & 1 & 5\n",
    "\\end{array} \\right ]$\n",
    "$D = \\left [ \\begin{array}{rcr}\n",
    "    1 & 5 & 2 \\\\\n",
    "    -1 & 0 & 1 \\\\\n",
    "    3 & 2 & 4\n",
    "\\end{array} \\right ]$\n",
    "$E = \\left [ \\begin{array}{rcr}\n",
    "    6 & 1 & 3 \\\\\n",
    "    -1 & 1 & 2 \\\\\n",
    "    4 & 1 & 3\n",
    "\\end{array} \\right ]$\n"
   ]
  },
  {
   "cell_type": "markdown",
   "metadata": {},
   "source": [
    "<b>A) $2A^t + C$</b>"
   ]
  },
  {
   "cell_type": "markdown",
   "metadata": {},
   "source": [
    "<b>Calculando o valor de $A^t$</b>"
   ]
  },
  {
   "cell_type": "markdown",
   "metadata": {},
   "source": [
    "$A^t = \\left [ \\begin{array}{rcr}\n",
    "    3 & -1 & 1 \\\\\n",
    "    0 & 2 & 1\n",
    "\\end{array} \\right ]$"
   ]
  },
  {
   "cell_type": "markdown",
   "metadata": {},
   "source": [
    "<b>Calculado o valor de $2A^t$</b>"
   ]
  },
  {
   "cell_type": "markdown",
   "metadata": {},
   "source": [
    "$2A^t = \\left [ \\begin{array}{rcr}\n",
    "    6 & -2 & 2 \\\\\n",
    "    0 & 4 & 2\n",
    "\\end{array} \\right ]$"
   ]
  },
  {
   "cell_type": "markdown",
   "metadata": {},
   "source": [
    "<b>Calculando o valor de $2A^t + C$</b>"
   ]
  },
  {
   "cell_type": "markdown",
   "metadata": {},
   "source": [
    "$2A^t + C =  \\left [ \\begin{array}{rcr}\n",
    "    7 & 2 & 4 \\\\\n",
    "    3 & 5 & 7\n",
    "\\end{array} \\right ]$"
   ]
  }
 ],
 "metadata": {
  "kernelspec": {
   "display_name": "Python 3",
   "language": "python",
   "name": "python3"
  },
  "language_info": {
   "codemirror_mode": {
    "name": "ipython",
    "version": 3
   },
   "file_extension": ".py",
   "mimetype": "text/x-python",
   "name": "python",
   "nbconvert_exporter": "python",
   "pygments_lexer": "ipython3",
   "version": "3.7.0"
  }
 },
 "nbformat": 4,
 "nbformat_minor": 2
}
