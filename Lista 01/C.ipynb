{
 "cells": [
  {
   "cell_type": "markdown",
   "metadata": {},
   "source": [
    "<b>Considere as matrizes abaixo: </b>"
   ]
  },
  {
   "cell_type": "markdown",
   "metadata": {},
   "source": [
    "$A = \\left [ \\begin{array}{rcr}\n",
    "    3 & 0 \\\\\n",
    "    -1 & 2 \\\\\n",
    "    1 & 1\n",
    "\\end{array} \\right ],$\n",
    "$B = \\left [ \\begin{array}{rcr}\n",
    "    4 & -1 \\\\\n",
    "    0 & 2\n",
    "\\end{array} \\right ],$\n",
    "$C = \\left [ \\begin{array}{rcr}\n",
    "    1 & 4 & 2 \\\\\n",
    "    3 & 1 & 5\n",
    "\\end{array} \\right ]$\n",
    "$D = \\left [ \\begin{array}{rcr}\n",
    "    1 & 5 & 2 \\\\\n",
    "    -1 & 0 & 1 \\\\\n",
    "    3 & 2 & 4\n",
    "\\end{array} \\right ]$\n",
    "$E = \\left [ \\begin{array}{rcr}\n",
    "    6 & 1 & 3 \\\\\n",
    "    -1 & 1 & 2 \\\\\n",
    "    4 & 1 & 3\n",
    "\\end{array} \\right ]$\n"
   ]
  },
  {
   "cell_type": "markdown",
   "metadata": {},
   "source": [
    "<b>C) $A + 5C^t$</b>"
   ]
  },
  {
   "cell_type": "markdown",
   "metadata": {},
   "source": [
    "<b>Calculando o valor de $C^t$</b>"
   ]
  },
  {
   "cell_type": "markdown",
   "metadata": {},
   "source": [
    "$C^t = \\left [ \\begin{array}{rcr}\n",
    "    1 & 3 \\\\\n",
    "    4 & 1 \\\\\n",
    "    2 & 5\n",
    "\\end{array} \\right ]$"
   ]
  },
  {
   "cell_type": "markdown",
   "metadata": {},
   "source": [
    "<b>Calculando o valor de $5C^t$</b>"
   ]
  },
  {
   "cell_type": "markdown",
   "metadata": {},
   "source": [
    "$5C^t = \\left [ \\begin{array}{rcr}\n",
    "    5 & 15 \\\\\n",
    "    20 & 5 \\\\\n",
    "    10 & 25\n",
    "\\end{array} \\right ]$"
   ]
  },
  {
   "cell_type": "markdown",
   "metadata": {},
   "source": [
    "<b>Calculando o valor de $A + 5C^t$</b>"
   ]
  },
  {
   "cell_type": "markdown",
   "metadata": {},
   "source": [
    "$A + 5C^t = \\left [ \\begin{array}{rcr}\n",
    "    8 & 15 \\\\\n",
    "    19 & 7 \\\\\n",
    "    11 & 26\n",
    "\\end{array} \\right ]$"
   ]
  }
 ],
 "metadata": {
  "kernelspec": {
   "display_name": "Python 3",
   "language": "python",
   "name": "python3"
  },
  "language_info": {
   "codemirror_mode": {
    "name": "ipython",
    "version": 3
   },
   "file_extension": ".py",
   "mimetype": "text/x-python",
   "name": "python",
   "nbconvert_exporter": "python",
   "pygments_lexer": "ipython3",
   "version": "3.7.0"
  }
 },
 "nbformat": 4,
 "nbformat_minor": 2
}
