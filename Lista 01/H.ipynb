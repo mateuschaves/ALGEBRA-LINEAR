{
 "cells": [
  {
   "cell_type": "markdown",
   "metadata": {},
   "source": [
    "<b>Considere as matrizes abaixo: </b>"
   ]
  },
  {
   "cell_type": "markdown",
   "metadata": {},
   "source": [
    "$A = \\left [ \\begin{array}{rcr}\n",
    "    3 & 0 \\\\\n",
    "    -1 & 2 \\\\\n",
    "    1 & 1\n",
    "\\end{array} \\right ],$\n",
    "$B = \\left [ \\begin{array}{rcr}\n",
    "    4 & -1 \\\\\n",
    "    0 & 2\n",
    "\\end{array} \\right ],$\n",
    "$C = \\left [ \\begin{array}{rcr}\n",
    "    1 & 4 & 2 \\\\\n",
    "    3 & 1 & 5\n",
    "\\end{array} \\right ]$\n",
    "$D = \\left [ \\begin{array}{rcr}\n",
    "    1 & 5 & 2 \\\\\n",
    "    -1 & 0 & 1 \\\\\n",
    "    3 & 2 & 4\n",
    "\\end{array} \\right ]$\n",
    "$E = \\left [ \\begin{array}{rcr}\n",
    "    6 & 1 & 3 \\\\\n",
    "    -1 & 1 & 2 \\\\\n",
    "    4 & 1 & 3\n",
    "\\end{array} \\right ]$"
   ]
  },
  {
   "cell_type": "markdown",
   "metadata": {},
   "source": [
    "$H) ((DE)^t - 4E)^t$"
   ]
  },
  {
   "cell_type": "markdown",
   "metadata": {},
   "source": [
    "<b>Calculando $DE$</b>"
   ]
  },
  {
   "cell_type": "markdown",
   "metadata": {},
   "source": [
    "$DE = \\left [ \\begin{array}{rcr}\n",
    "    1 \\cdot 6 + 5 \\cdot (-1) + 2 \\cdot 4 & 1 \\cdot 1 + 5 \\cdot 1 + 2 \\cdot 1 & 1 \\cdot 3 + 5 \\cdot 2 + 2 \\cdot 3 \\\\\n",
    "    (-1) \\cdot 6 + 0 \\cdot (-1) + 1 \\cdot 4 & (-1) \\cdot 1 + 0 \\cdot 1 + 1 \\cdot 1 & (-1) \\cdot 3 + 0 \\cdot 2 + 1 \\cdot 3 \\\\\n",
    "    3 \\cdot 6 + 2 \\cdot (-1) + 4 \\cdot 4 & 3 \\cdot 1 + 2 \\cdot 1 + 4 \\cdot 1 & 3 \\cdot 3 + 2 \\cdot 2 + 4 \\cdot 3 \n",
    "\\end{array} \\right ]$"
   ]
  },
  {
   "cell_type": "markdown",
   "metadata": {},
   "source": [
    "$DE = \\left [ \\begin{array}{rcr}\n",
    "    9 & 8 & 19 \\\\\n",
    "    -2 & 0 & 0 \\\\\n",
    "    32 & 9 & 25\n",
    "\\end{array} \\right ]$"
   ]
  },
  {
   "cell_type": "markdown",
   "metadata": {},
   "source": [
    "<b>Calculando $(DE)^t$</b>"
   ]
  },
  {
   "cell_type": "markdown",
   "metadata": {},
   "source": [
    "$(DE)^t = \\left [ \\begin{array}{rcr}\n",
    "    9 & -2 & 32 \\\\\n",
    "    8 & 0 & 9 \\\\\n",
    "    19 & 0 & 25\n",
    "\\end{array} \\right ]$"
   ]
  },
  {
   "cell_type": "markdown",
   "metadata": {},
   "source": [
    "<b>Calculando $-4E$</b>"
   ]
  },
  {
   "cell_type": "markdown",
   "metadata": {},
   "source": [
    "$-4E = \\left [ \\begin{array}{rcr}\n",
    "    -24 & -4 & -12 \\\\\n",
    "    4 & -4 & -8 \\\\\n",
    "    -16 & -4 & -12\n",
    "\\end{array} \\right ]$"
   ]
  },
  {
   "cell_type": "markdown",
   "metadata": {},
   "source": [
    "<b>Calculando $(DE)^t - 4E$</b>"
   ]
  },
  {
   "cell_type": "markdown",
   "metadata": {},
   "source": [
    "$(DE)^t - 4E = \\left [ \\begin{array}{rcr}\n",
    "    33 & 2 & 44 \\\\\n",
    "    4 & 4 & 17 \\\\\n",
    "    35 & 4 & 37\n",
    "\\end{array} \\right ]$"
   ]
  },
  {
   "cell_type": "markdown",
   "metadata": {},
   "source": [
    "<b>Calculando $((DE)^t - 4E)^t$</b>"
   ]
  },
  {
   "cell_type": "markdown",
   "metadata": {},
   "source": [
    "$((DE)^t - 4E)^t = \\left [ \\begin{array}{rcr}\n",
    "    33 & 4 & 35 \\\\\n",
    "    2 & 4 & 4 \\\\\n",
    "    44 & 17 & 37\n",
    "\\end{array} \\right ]$"
   ]
  }
 ],
 "metadata": {
  "kernelspec": {
   "display_name": "Python 3",
   "language": "python",
   "name": "python3"
  },
  "language_info": {
   "codemirror_mode": {
    "name": "ipython",
    "version": 3
   },
   "file_extension": ".py",
   "mimetype": "text/x-python",
   "name": "python",
   "nbconvert_exporter": "python",
   "pygments_lexer": "ipython3",
   "version": "3.7.0"
  }
 },
 "nbformat": 4,
 "nbformat_minor": 2
}
