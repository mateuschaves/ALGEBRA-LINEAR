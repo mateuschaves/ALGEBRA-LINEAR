{
 "cells": [
  {
   "cell_type": "markdown",
   "metadata": {},
   "source": [
    "<b>Dada a transformação linear $T:R^3 \\rightarrow R^3$ tal que $T(x,y,z) = (x + y + z, x + 2y - 4z, z)$, determine</b>"
   ]
  },
  {
   "cell_type": "markdown",
   "metadata": {},
   "source": [
    "$A)\\:$<b>$Ker(T)$ e a dimensão desse subespaço. Determine $Im(T)$ e uma base para o subespaço.</b>"
   ]
  },
  {
   "cell_type": "markdown",
   "metadata": {},
   "source": [
    "$(x + y + z, x + 2y - 4z, z) = (0, 0, 0)$"
   ]
  },
  {
   "cell_type": "markdown",
   "metadata": {},
   "source": [
    "$\\left \\{\n",
    "    \\begin{array}{ll}\n",
    "    x + y + z = 0 \\\\\n",
    "    x + 2y - 4z = 0 \\\\\n",
    "    z = 0\n",
    "    \\end{array}\n",
    " \\right.$"
   ]
  },
  {
   "cell_type": "markdown",
   "metadata": {},
   "source": [
    "$x = y = z = 0$"
   ]
  },
  {
   "cell_type": "markdown",
   "metadata": {},
   "source": [
    "$Ker(T) = \\{(0, 0, 0)\\}$"
   ]
  },
  {
   "cell_type": "markdown",
   "metadata": {},
   "source": [
    "$dim(Ker(T)) = 0$"
   ]
  },
  {
   "cell_type": "markdown",
   "metadata": {},
   "source": [
    "$B)\\: $<b>Essa transformação $T$ é um isomorfismo ? Determine $T^{-1}$ usando a lei de formação $T$ (sem usar o processo de inversão de matrizes)</b>"
   ]
  },
  {
   "cell_type": "markdown",
   "metadata": {},
   "source": [
    "$i)$ Injetora ?"
   ]
  },
  {
   "cell_type": "markdown",
   "metadata": {},
   "source": [
    "$dim(Ker(T)) = 0$, logo $T$ é injetora."
   ]
  },
  {
   "cell_type": "markdown",
   "metadata": {},
   "source": [
    "$ii)$ Sobrejetora ?"
   ]
  },
  {
   "cell_type": "markdown",
   "metadata": {},
   "source": [
    "$dim(Im(T)) + dim(Ker(T)) = dim(D(T))$"
   ]
  },
  {
   "cell_type": "markdown",
   "metadata": {},
   "source": [
    "$0 + 3 = 3$, logo $T$ é sobrejetora"
   ]
  },
  {
   "cell_type": "markdown",
   "metadata": {},
   "source": [
    "$T(x,y,z)$ é um isomorfismo"
   ]
  },
  {
   "cell_type": "markdown",
   "metadata": {},
   "source": [
    "$\\left \\{\n",
    "    \\begin{array}{ll}\n",
    "    x + y + z = a \\\\\n",
    "    x + 2y - 4z = b \\\\\n",
    "    z = c\n",
    "    \\end{array}\n",
    " \\right.$"
   ]
  },
  {
   "cell_type": "markdown",
   "metadata": {},
   "source": [
    "$\\left (\n",
    "    \\begin{array}{cc}\n",
    "     1 & 1 & 1 & a  \\\\\n",
    "     1 & 2 & -4 & b \\\\\n",
    "     0 & 0 & 1 & c\n",
    "    \\end{array}\n",
    " \\right )$"
   ]
  },
  {
   "cell_type": "markdown",
   "metadata": {},
   "source": [
    "$\\left (\n",
    "    \\begin{array}{cc}\n",
    "     1 & 1 & 1 & a  \\\\\n",
    "     0 & 1 & -5 & b - a \\\\\n",
    "     0 & 0 & 1 & c\n",
    "    \\end{array}\n",
    " \\right )$"
   ]
  },
  {
   "cell_type": "markdown",
   "metadata": {},
   "source": [
    "$\\left \\{\n",
    "    \\begin{array}{ll}\n",
    "    x + y + z = a \\\\\n",
    "    y - 5z = b - a\n",
    "    \\end{array}\n",
    " \\right.$"
   ]
  },
  {
   "cell_type": "markdown",
   "metadata": {},
   "source": [
    "$y = b - a + 5z$"
   ]
  },
  {
   "cell_type": "markdown",
   "metadata": {},
   "source": [
    "$x = a - y - z$"
   ]
  },
  {
   "cell_type": "markdown",
   "metadata": {},
   "source": [
    "$x = a - b + a - 5c - c$"
   ]
  },
  {
   "cell_type": "markdown",
   "metadata": {},
   "source": [
    "$x = 2a -b - 6c$"
   ]
  },
  {
   "cell_type": "markdown",
   "metadata": {},
   "source": [
    "$T^{-1}(a, b, c) = (2a - b - 6c, b - a + 5c, c)$"
   ]
  }
 ],
 "metadata": {
  "kernelspec": {
   "display_name": "Python 3",
   "language": "python",
   "name": "python3"
  },
  "language_info": {
   "codemirror_mode": {
    "name": "ipython",
    "version": 3
   },
   "file_extension": ".py",
   "mimetype": "text/x-python",
   "name": "python",
   "nbconvert_exporter": "python",
   "pygments_lexer": "ipython3",
   "version": "3.7.0"
  }
 },
 "nbformat": 4,
 "nbformat_minor": 2
}
