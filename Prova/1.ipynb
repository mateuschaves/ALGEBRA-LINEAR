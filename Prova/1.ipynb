{
 "cells": [
  {
   "cell_type": "markdown",
   "metadata": {},
   "source": [
    "<b>Dada a função $T: R^2 \\rightarrow M_2(R), $ ral que $T(x,y) = \n",
    "\\left ( \n",
    "    \\begin{array}{cc}\n",
    "    x & -y \\\\ \n",
    "    y & x + 1\n",
    "    \\end{array}\n",
    "\\right )$, verifique se ela é uma transformação linear.</b>"
   ]
  },
  {
   "cell_type": "markdown",
   "metadata": {},
   "source": [
    "$v = \n",
    "\\left (\n",
    "    \\begin{array}{cc}\n",
    "    a_1 & b_1 \\\\\n",
    "    c_1 & d_1\n",
    "    \\end{array}\n",
    "\\right )$"
   ]
  },
  {
   "cell_type": "markdown",
   "metadata": {},
   "source": [
    "$u = \n",
    "\\left (\n",
    "    \\begin{array}{cc}\n",
    "    a_2 & b_2 \\\\\n",
    "    c_2 & d_2\n",
    "    \\end{array}\n",
    "\\right )$"
   ]
  },
  {
   "cell_type": "markdown",
   "metadata": {},
   "source": [
    "$u + v = \n",
    "\\left (\n",
    "    \\begin{array}{cc}\n",
    "    a_1 + a_2  & b_1 + b_2 \\\\\n",
    "    c_1 + c_2  & d_1 + d_2\n",
    "    \\end{array}\n",
    "\\right )$"
   ]
  },
  {
   "cell_type": "markdown",
   "metadata": {},
   "source": [
    "$T(u + v) = ? \\: T(u) + T(v)$"
   ]
  },
  {
   "cell_type": "markdown",
   "metadata": {},
   "source": [
    "$T(u+v) = \n",
    "\\left (\n",
    "    \\begin{array}{cc}\n",
    "    a_1 + a_2 & - b_1 - b_2 \\\\\n",
    "    b_1 + b_2 & a_1 + a_2 + 1\n",
    "    \\end{array}\n",
    "\\right )$"
   ]
  },
  {
   "cell_type": "markdown",
   "metadata": {},
   "source": [
    "$T(u) = \\left (\n",
    "    \\begin{array}{cc}\n",
    "    a_1 & - b_1 \\\\\n",
    "    b_1 & a_1 + 1\n",
    "    \\end{array}\n",
    "\\right )$"
   ]
  },
  {
   "cell_type": "markdown",
   "metadata": {},
   "source": [
    "$T(v) = \\left (\n",
    "    \\begin{array}{cc}\n",
    "    a_2 & - b_2 \\\\\n",
    "    b_2 & a_2 + 1\n",
    "    \\end{array}\n",
    "\\right )$"
   ]
  },
  {
   "cell_type": "markdown",
   "metadata": {},
   "source": [
    "$T(u) + T(v) = \n",
    "\\left (\n",
    "    \\begin{array}{cc}\n",
    "    a_1 + a_2 & - b_1 - b_2 \\\\\n",
    "    b_1 + b_2 & a_1 + a_2 + 2\n",
    "    \\end{array}\n",
    "\\right )$"
   ]
  },
  {
   "cell_type": "markdown",
   "metadata": {},
   "source": [
    "$T(u+v) \\neq T(u) + T(v)$"
   ]
  },
  {
   "cell_type": "markdown",
   "metadata": {},
   "source": [
    "Logo $T(x,y)$ não é linar."
   ]
  }
 ],
 "metadata": {
  "kernelspec": {
   "display_name": "Python 3",
   "language": "python",
   "name": "python3"
  },
  "language_info": {
   "codemirror_mode": {
    "name": "ipython",
    "version": 3
   },
   "file_extension": ".py",
   "mimetype": "text/x-python",
   "name": "python",
   "nbconvert_exporter": "python",
   "pygments_lexer": "ipython3",
   "version": "3.7.0"
  }
 },
 "nbformat": 4,
 "nbformat_minor": 2
}
