{
 "cells": [
  {
   "cell_type": "markdown",
   "metadata": {},
   "source": [
    "$\\text{Seja a transformação linear $F:R^2 \\rightarrow R^3$ e as bases de $R^2$ e $R^3$, respectivamente $ B = \\{(1, -1), (0, 2) \\} C = \\{(1, 0, -1), (0, 1, 2), (1,2,0)\\}$. Sabendo que a matriz $F_{b,c} = \n",
    "    \\left ( \n",
    "        \\begin{array}{cc}\n",
    "            1 & 0 \\\\\n",
    "            -1 & 1 \\\\\n",
    "            0 & 1\n",
    "        \\end{array}\n",
    "    \\right )$\n",
    ", determine a transformação $F$}$"
   ]
  },
  {
   "cell_type": "markdown",
   "metadata": {},
   "source": [
    "$(x,y) = a(1, -1) + b(0, 2)$"
   ]
  },
  {
   "cell_type": "markdown",
   "metadata": {},
   "source": [
    "$(x,y) = (a, 2b - a)$"
   ]
  },
  {
   "cell_type": "markdown",
   "metadata": {},
   "source": [
    "$\\left \\{\n",
    "    \\begin{array}{ll}\n",
    "        a = x \\\\\n",
    "        2b - a = y\n",
    "    \\end{array}\n",
    " \\right.$"
   ]
  },
  {
   "cell_type": "markdown",
   "metadata": {},
   "source": [
    "$b = \\frac{y + x}{2}$"
   ]
  },
  {
   "cell_type": "markdown",
   "metadata": {},
   "source": [
    "$T(1, -1)= 1(1, 0, -1) - 1(0, 1, 2) + 0(1, 2, 0) = (1, -1, -3)$"
   ]
  },
  {
   "cell_type": "markdown",
   "metadata": {},
   "source": [
    "$T(0, 2) = 0(1, 0, -1) + 1(0, 1, 2) + 1(1, 2, 0) = (1, 3, 2)$"
   ]
  },
  {
   "cell_type": "markdown",
   "metadata": {},
   "source": [
    "$T(x,y) = xT(1, -1) + \\frac{y + x}{2}T(0, 2)$"
   ]
  },
  {
   "cell_type": "markdown",
   "metadata": {},
   "source": [
    "$T(x,y) = x(1, -1, -3) + \\frac{y+x}{2}(1,3,2)$"
   ]
  },
  {
   "cell_type": "markdown",
   "metadata": {},
   "source": [
    "$T(x,y) = (x, -x, -3x) + (\\frac{y+x}{2}, \\frac{3x + 3y}{2}, \\frac{2y + 2x}{2})$"
   ]
  },
  {
   "cell_type": "markdown",
   "metadata": {},
   "source": [
    "$T(x,y) = (\\frac{y + 3x}{2}, \\frac{x + 3y}{2}, \\frac{2y - 4x}{2})$"
   ]
  }
 ],
 "metadata": {
  "kernelspec": {
   "display_name": "Python 3",
   "language": "python",
   "name": "python3"
  },
  "language_info": {
   "codemirror_mode": {
    "name": "ipython",
    "version": 3
   },
   "file_extension": ".py",
   "mimetype": "text/x-python",
   "name": "python",
   "nbconvert_exporter": "python",
   "pygments_lexer": "ipython3",
   "version": "3.7.0"
  }
 },
 "nbformat": 4,
 "nbformat_minor": 2
}
