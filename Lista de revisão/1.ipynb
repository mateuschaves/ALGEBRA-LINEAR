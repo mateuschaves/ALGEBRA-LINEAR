{
 "cells": [
  {
   "cell_type": "markdown",
   "metadata": {},
   "source": [
    "<b>Dada a função $T:M_2(R) \\rightarrow R$, tal que $T\\left ( \\begin{array}{rcr}\n",
    "     a & b \\\\\n",
    "     c & d \n",
    "\\end{array} \\right ) = 2a + 3b + c - d$</b>"
   ]
  },
  {
   "cell_type": "markdown",
   "metadata": {},
   "source": [
    "<b>Verifique se ela é uma transformação linear.</b>"
   ]
  },
  {
   "cell_type": "markdown",
   "metadata": {},
   "source": [
    "$u = \\left ( \\begin{array}{rcr}\n",
    "     a_1 & b_1 \\\\\n",
    "     c_1 & d_1 \n",
    "\\end{array} \\right )$"
   ]
  },
  {
   "cell_type": "markdown",
   "metadata": {},
   "source": [
    "$v = \\left ( \\begin{array}{rcr}\n",
    "     a_2 & b_2 \\\\\n",
    "     c_2 & d_2 \n",
    "\\end{array} \\right )$"
   ]
  },
  {
   "cell_type": "markdown",
   "metadata": {},
   "source": [
    "$u + v  = \\left ( \\begin{array}{rcr}\n",
    "     a_1 + a_2 & b_1 + b_2 \\\\\n",
    "     c_1 + c_2 & d_1 + d_2 \n",
    "\\end{array} \\right )$"
   ]
  },
  {
   "cell_type": "markdown",
   "metadata": {},
   "source": [
    "$T(u + v) =? T(u) + T(v)$"
   ]
  },
  {
   "cell_type": "markdown",
   "metadata": {},
   "source": [
    "$T(u + v) = 2a_1 + 2a_2 + 3b_1 + 3b_2 + c_1 + c_2 - d_1 - d_2$"
   ]
  },
  {
   "cell_type": "markdown",
   "metadata": {},
   "source": [
    "$T(u) = 2a_1 + 3b_1 + c_1 - d_1$"
   ]
  },
  {
   "cell_type": "markdown",
   "metadata": {},
   "source": [
    "$T(v) = 2a_2 + 3b_2 + c_2 - d_2$"
   ]
  },
  {
   "cell_type": "markdown",
   "metadata": {},
   "source": [
    "$T(u) + T(v) = 2a_1 + 2a_2 + 3b_1 + 3b_2 + c_1 + c_2 - d_1 - d_2$"
   ]
  },
  {
   "cell_type": "markdown",
   "metadata": {},
   "source": [
    "$T(u) + T(v) = T(u + v)$"
   ]
  },
  {
   "cell_type": "markdown",
   "metadata": {},
   "source": [
    "$\\lambda T(u) =? T(\\lambda u)$"
   ]
  },
  {
   "cell_type": "markdown",
   "metadata": {},
   "source": [
    "$\\lambda u = \\left ( \\begin{array}{rcr}\n",
    "     \\lambda a_1 &  \\lambda b_1 \\\\\n",
    "     \\lambda c_1 & \\lambda d_1 \n",
    "\\end{array} \\right )$"
   ]
  },
  {
   "cell_type": "markdown",
   "metadata": {},
   "source": [
    "$T(\\lambda u) = 2\\lambda a_1 + 3 \\lambda b_1 + \\lambda c - \\lambda d$"
   ]
  },
  {
   "cell_type": "markdown",
   "metadata": {},
   "source": [
    "$T(\\lambda u) = \\lambda(2a_1 + 3b_1 + c - d)$"
   ]
  },
  {
   "cell_type": "markdown",
   "metadata": {},
   "source": [
    "$\\lambda T(u) = \\lambda(2a_1 + 3b_1 + c - d)$"
   ]
  },
  {
   "cell_type": "markdown",
   "metadata": {},
   "source": [
    "$T(\\lambda u) = \\lambda T(u)$"
   ]
  }
 ],
 "metadata": {
  "kernelspec": {
   "display_name": "Python 3",
   "language": "python",
   "name": "python3"
  },
  "language_info": {
   "codemirror_mode": {
    "name": "ipython",
    "version": 3
   },
   "file_extension": ".py",
   "mimetype": "text/x-python",
   "name": "python",
   "nbconvert_exporter": "python",
   "pygments_lexer": "ipython3",
   "version": "3.7.0"
  }
 },
 "nbformat": 4,
 "nbformat_minor": 2
}
