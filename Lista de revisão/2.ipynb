{
 "cells": [
  {
   "cell_type": "markdown",
   "metadata": {},
   "source": [
    "<b>Dada a transformação linear $T: R^3 \\rightarrow R^3$ tal que $T(x, y, z) = (x + 2y - z, 2x + 4y - 2z, -x - 2y + z)$</b>"
   ]
  },
  {
   "cell_type": "markdown",
   "metadata": {},
   "source": [
    "$A)$<b>Determine o $Ker(T)$ e uma base para o subespaço.</b>"
   ]
  },
  {
   "cell_type": "markdown",
   "metadata": {},
   "source": [
    "$(x + 2y - z, 2x + 4y - 2z, -x - 2y + z) = (0, 0, 0)$"
   ]
  },
  {
   "cell_type": "markdown",
   "metadata": {},
   "source": [
    "$\\left \\{\n",
    "    \\begin{array}{ll}\n",
    "         x + 2y -z = 0 \\\\\n",
    "         2x + 4y - 2z = 0 \\\\\n",
    "         -x - 2y + z = 0\n",
    "    \\end{array}\n",
    " \\right.$"
   ]
  },
  {
   "cell_type": "markdown",
   "metadata": {},
   "source": [
    "$2x + 4y - 2z = 0$"
   ]
  },
  {
   "cell_type": "markdown",
   "metadata": {},
   "source": [
    "$x + 2y - z = 0$"
   ]
  },
  {
   "cell_type": "markdown",
   "metadata": {},
   "source": [
    "$x = z - 2y$"
   ]
  },
  {
   "cell_type": "markdown",
   "metadata": {},
   "source": [
    "$y = \\frac{-x + z}{2}$"
   ]
  },
  {
   "cell_type": "markdown",
   "metadata": {},
   "source": [
    "$y = \\frac{-z + 2y + z}{2}$"
   ]
  },
  {
   "cell_type": "markdown",
   "metadata": {},
   "source": [
    "$y = y$"
   ]
  },
  {
   "cell_type": "markdown",
   "metadata": {},
   "source": [
    "$z = x + 2y$"
   ]
  },
  {
   "cell_type": "markdown",
   "metadata": {},
   "source": [
    "$z = z - 2y + 2y$"
   ]
  },
  {
   "cell_type": "markdown",
   "metadata": {},
   "source": [
    "$z = z$"
   ]
  },
  {
   "cell_type": "markdown",
   "metadata": {},
   "source": [
    "$Ker(T) = (z - 2y, y, z)$"
   ]
  },
  {
   "cell_type": "markdown",
   "metadata": {},
   "source": [
    "$(z - 2y, y, z) = y( -2, 1, 0) + z(1, 0, 1)$"
   ]
  },
  {
   "cell_type": "markdown",
   "metadata": {},
   "source": [
    "$\\left [\n",
    "    \\begin{array}{cc}\n",
    "        -2 & 1 & 0 \\\\\n",
    "        1 & 0 & 1\n",
    "    \\end{array} \n",
    " \\right ].$"
   ]
  },
  {
   "cell_type": "markdown",
   "metadata": {},
   "source": [
    "$L2 \\rightarrow L2 + \\frac{1}{2}L1$"
   ]
  },
  {
   "cell_type": "markdown",
   "metadata": {},
   "source": [
    "$\\left [\n",
    "    \\begin{array}{cc}\n",
    "        -2 & 1 & 0 \\\\\n",
    "        0 & \\frac{1}{2} & 1\n",
    "    \\end{array} \n",
    " \\right ].$"
   ]
  },
  {
   "cell_type": "markdown",
   "metadata": {},
   "source": [
    "<b>Bases: </b>$\\{(-2, 1, 0), (0, \\frac{1}{2}, 1)\\}$"
   ]
  },
  {
   "cell_type": "markdown",
   "metadata": {},
   "source": [
    "$B)$<b>Determine $Im(T)$ e uma base para o subespaço.</b>"
   ]
  },
  {
   "cell_type": "markdown",
   "metadata": {},
   "source": [
    "$(x + 2y - z, 2x + 4y - 2z, -x - 2y + z) = x(1, 2, -1) + y(2, 4, -2) + z(-1, -2, 1)$"
   ]
  },
  {
   "cell_type": "markdown",
   "metadata": {},
   "source": [
    "$\\left [\n",
    "    \\begin{array}{cc}\n",
    "        1 & 2 & -1 \\\\\n",
    "        2 & 4 & -2 \\\\\n",
    "        -1 & -2 & 1\n",
    "    \\end{array}\n",
    " \\right ]$"
   ]
  },
  {
   "cell_type": "markdown",
   "metadata": {},
   "source": [
    "$L2 \\rightarrow L2 - 2L1$"
   ]
  },
  {
   "cell_type": "markdown",
   "metadata": {},
   "source": [
    "$\\left [\n",
    "    \\begin{array}{cc}\n",
    "        1 & 2 & -1 \\\\\n",
    "        0 & 0 & 0 \\\\\n",
    "        -1 & -2 & 1\n",
    "    \\end{array}\n",
    " \\right ]$"
   ]
  },
  {
   "cell_type": "markdown",
   "metadata": {},
   "source": [
    "$L3 \\rightarrow L3 + L1$"
   ]
  },
  {
   "cell_type": "markdown",
   "metadata": {},
   "source": [
    "$\\left [\n",
    "    \\begin{array}{cc}\n",
    "        1 & 2 & -1 \\\\\n",
    "        0 & 0 & 0 \\\\\n",
    "        0 & 0 & 0\n",
    "    \\end{array}\n",
    " \\right ]$"
   ]
  },
  {
   "cell_type": "markdown",
   "metadata": {},
   "source": [
    "<b>Base </b>$(1, 2, -1)$"
   ]
  }
 ],
 "metadata": {
  "kernelspec": {
   "display_name": "Python 3",
   "language": "python",
   "name": "python3"
  },
  "language_info": {
   "codemirror_mode": {
    "name": "ipython",
    "version": 3
   },
   "file_extension": ".py",
   "mimetype": "text/x-python",
   "name": "python",
   "nbconvert_exporter": "python",
   "pygments_lexer": "ipython3",
   "version": "3.7.0"
  }
 },
 "nbformat": 4,
 "nbformat_minor": 2
}
