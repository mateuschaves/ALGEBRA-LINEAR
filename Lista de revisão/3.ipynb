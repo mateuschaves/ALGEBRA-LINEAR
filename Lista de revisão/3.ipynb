{
 "cells": [
  {
   "cell_type": "markdown",
   "metadata": {},
   "source": [
    "<b>Dada a transformação linear $T: R^3 \\rightarrow R^3$, cuja matriz com relação à base $\\{(1, 0, 0), (1, 1, 0), (1, 1, 1)\\}$ é representada por</b>"
   ]
  },
  {
   "cell_type": "markdown",
   "metadata": {},
   "source": [
    "$A) $ <b>Determine a transformação $T$</b>"
   ]
  },
  {
   "cell_type": "markdown",
   "metadata": {},
   "source": [
    "$\\left (\n",
    "    \\begin{array}{cc}\n",
    "     1 & 2 & 1 \\\\\n",
    "     1 & 0 & 0 \\\\\n",
    "     0 & 1 & 2\n",
    "    \\end{array}\n",
    " \\right )$"
   ]
  },
  {
   "cell_type": "markdown",
   "metadata": {},
   "source": [
    "$T(1, 0, 0) = 1(1, 0, 0) + 1(1, 1, 0) + 0(1, 1, 1) = (2, 1, 0)$"
   ]
  },
  {
   "cell_type": "markdown",
   "metadata": {},
   "source": [
    "$T(1, 1, 0) = 2(1, 0, 0) + 0(1, 1, 0) + 1(1, 1, 1) = (3, 1, 1)$"
   ]
  },
  {
   "cell_type": "markdown",
   "metadata": {},
   "source": [
    "$T(1, 1, 1) = 1(1, 0, 0) + 0(1, 1, 0) + 2(1, 1, 1) = (3, 2, 2)$"
   ]
  },
  {
   "cell_type": "markdown",
   "metadata": {},
   "source": [
    "$(x, y, z) = a(1, 0, 0) + b(1, 1, 0) + c(1, 1, 1)$"
   ]
  },
  {
   "cell_type": "markdown",
   "metadata": {},
   "source": [
    "$(x, y, z) = (a, 0, 0) + (b, b, 0) + (c, c, c)$"
   ]
  },
  {
   "cell_type": "markdown",
   "metadata": {},
   "source": [
    "$(x, y, z) = (a + b + c, b + c, c)$"
   ]
  },
  {
   "cell_type": "markdown",
   "metadata": {},
   "source": [
    "$\\left \\{\n",
    "    \\begin{array}{ll}\n",
    "     a + b + c = x \\\\\n",
    "     b + c = y \\\\\n",
    "     z = c\n",
    "    \\end{array}\n",
    " \\right.$"
   ]
  },
  {
   "cell_type": "markdown",
   "metadata": {},
   "source": [
    "$b = y - z$"
   ]
  },
  {
   "cell_type": "markdown",
   "metadata": {},
   "source": [
    "$a = x - y $"
   ]
  },
  {
   "cell_type": "markdown",
   "metadata": {},
   "source": [
    "$(x, y, z) = (x - y)(1, 0, 0) + (y - z)(1, 1, 0) + z(1, 1, 1)$"
   ]
  },
  {
   "cell_type": "markdown",
   "metadata": {},
   "source": [
    "$T(x, y, z) = (x - y)T(1, 0, 0) + (y - z)T(1, 1, 0) + zT(1, 1, 1)$"
   ]
  },
  {
   "cell_type": "markdown",
   "metadata": {},
   "source": [
    "$T(x, y, z) = (x - y)(2, 1, 0) + (y - z)(3, 1, 1) + z(3, 2, 2)$"
   ]
  },
  {
   "cell_type": "markdown",
   "metadata": {},
   "source": [
    "$T(x, y, z) = (2x - 2y, x - y, 0) + (3y - 3z, y - z, y - z) + (3z, 2z, 2z)$"
   ]
  },
  {
   "cell_type": "markdown",
   "metadata": {},
   "source": [
    "$T(x, y, z) = (2x + y, x + z, y + z)$"
   ]
  }
 ],
 "metadata": {
  "kernelspec": {
   "display_name": "Python 3",
   "language": "python",
   "name": "python3"
  },
  "language_info": {
   "codemirror_mode": {
    "name": "ipython",
    "version": 3
   },
   "file_extension": ".py",
   "mimetype": "text/x-python",
   "name": "python",
   "nbconvert_exporter": "python",
   "pygments_lexer": "ipython3",
   "version": "3.7.0"
  }
 },
 "nbformat": 4,
 "nbformat_minor": 2
}
