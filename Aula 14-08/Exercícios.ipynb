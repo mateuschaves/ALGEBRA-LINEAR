{
 "cells": [
  {
   "cell_type": "markdown",
   "metadata": {},
   "source": [
    "<b>Resolva , dados</b>"
   ]
  },
  {
   "cell_type": "markdown",
   "metadata": {},
   "source": [
    " $A = \\left [ \\begin{array}{rcr}\n",
    "    3 & 0 \\\\\n",
    "    -1 & 2  \\\\\n",
    "    1 & 1\n",
    "\\end{array} \\right]$,\n",
    "$C = \\left [ \\begin{array}{rcr}\n",
    "    1 & 4 & 2 \\\\\n",
    "    3 & 1 & 5 \\\\\n",
    "\\end{array} \\right]$, \n",
    "$D = \\left [ \\begin{array}{rcr}\n",
    "    1 & 5 & 2 \\\\\n",
    "    -1 & 0 & 1 \\\\\n",
    "    3 & 2 & 4\n",
    "\\end{array} \\right]$"
   ]
  },
  {
   "cell_type": "markdown",
   "metadata": {},
   "source": [
    "<b>A) $(DA)^t$</b>"
   ]
  },
  {
   "cell_type": "markdown",
   "metadata": {},
   "source": [
    "$D \\cdot A$ = $\\left [ \\begin{array}{rcr}\n",
    " 1 \\cdot 3 + 5 \\cdot (-1) + 2 \\cdot 1 & 1 \\cdot 0 + 5 \\cdot 2 + 2 \\cdot 1  \\\\\n",
    " -1 \\cdot 3 + 0 \\cdot -1 + 1 \\cdot 1 & -1 \\cdot 0 + 0 \\cdot 2 + 1 \\cdot 1  \\\\\n",
    " 3 \\cdot 3 + 2 \\cdot -1 + 4 \\cdot 1 & 3 \\cdot 0 + 2 \\cdot 2 + 4 \\cdot 1     \\\\\n",
    "\\end{array} \\right ]$"
   ]
  },
  {
   "cell_type": "markdown",
   "metadata": {},
   "source": [
    "$D \\cdot A = \\left [ \\begin{array}{rcr}\n",
    "    0 & 12 \\\\\n",
    "    -2 & 1 \\\\\n",
    "    \n",
    "\\end{array} \\right ]$"
   ]
  }
 ],
 "metadata": {
  "kernelspec": {
   "display_name": "Python 3",
   "language": "python",
   "name": "python3"
  },
  "language_info": {
   "codemirror_mode": {
    "name": "ipython",
    "version": 3
   },
   "file_extension": ".py",
   "mimetype": "text/x-python",
   "name": "python",
   "nbconvert_exporter": "python",
   "pygments_lexer": "ipython3",
   "version": "3.7.0"
  }
 },
 "nbformat": 4,
 "nbformat_minor": 2
}
