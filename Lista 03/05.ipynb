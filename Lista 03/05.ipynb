{
 "cells": [
  {
   "cell_type": "markdown",
   "metadata": {},
   "source": [
    "<b>Escalone o sistema de equações lineares abaixo e indique se são compatíveis determinados (com a\n",
    "respectiva solução), compatíveis indeterminados ou incompatíveis.</b>"
   ]
  },
  {
   "cell_type": "markdown",
   "metadata": {},
   "source": [
    "$S: \\begin{cases}\n",
    "3x + 3y - 2z - t= 2 \\\\\n",
    "5x + 2y + z - 2t= 1 \\\\\n",
    "2x - y + 3z - t = -1\n",
    "\\end{cases} $"
   ]
  },
  {
   "cell_type": "markdown",
   "metadata": {},
   "source": [
    "$\\left ( \\begin{array}{rcr}\n",
    "    3 & 3 & -2 & -1 & | & 2 \\\\\n",
    "    5 & 2 & 1  & -2 & | & 1 \\\\\n",
    "    2 & -1 & 3 & -1 &| & -1 \\\\\n",
    "\\end{array} \\right )$"
   ]
  },
  {
   "cell_type": "markdown",
   "metadata": {},
   "source": [
    "$\\frac{5}{3}L1 - L2 \\rightarrow L2$"
   ]
  },
  {
   "cell_type": "markdown",
   "metadata": {},
   "source": [
    "$\\left ( \\begin{array}{rcr}\n",
    "    3 & 3 & -2 & -1 & | & 2 \\\\\n",
    "    0 & 3 & -\\frac{13}{3}  & \\frac{1}{3} & | & -\\frac{1}{3} \\\\\n",
    "    2 & -1 & 3 & -1 &| & -1 \\\\\n",
    "\\end{array} \\right )$"
   ]
  },
  {
   "cell_type": "markdown",
   "metadata": {},
   "source": [
    "$\\frac{3}{2}L1 - L3 \\rightarrow L3$"
   ]
  },
  {
   "cell_type": "markdown",
   "metadata": {},
   "source": [
    "$\\left ( \\begin{array}{rcr}\n",
    "    3 & 3 & -2 & -1 & | & 2 \\\\\n",
    "    0 & 3 & -\\frac{13}{3}  & \\frac{1}{3} & | & -\\frac{1}{3} \\\\\n",
    "    0 & \\frac{11}{2} & -6 & -\\frac{1}{2} &| & 4 \\\\\n",
    "\\end{array} \\right )$"
   ]
  },
  {
   "cell_type": "markdown",
   "metadata": {},
   "source": [
    "$\\frac{11}{6}L2 - L3 \\rightarrow L3 $"
   ]
  },
  {
   "cell_type": "markdown",
   "metadata": {},
   "source": [
    "$\\left ( \\begin{array}{rcr}\n",
    "    3 & 3 & -2 & -1 & | & 2 \\\\\n",
    "    0 & 3 & -\\frac{13}{3}  & \\frac{1}{3} & | & -\\frac{1}{3} \\\\\n",
    "    0 & 0 & -\\frac{35}{18} & \\frac{20}{18} & | & -\\frac{83}{18}\\\\\n",
    "\\end{array} \\right )$"
   ]
  }
 ],
 "metadata": {
  "kernelspec": {
   "display_name": "Python 3",
   "language": "python",
   "name": "python3"
  },
  "language_info": {
   "codemirror_mode": {
    "name": "ipython",
    "version": 3
   },
   "file_extension": ".py",
   "mimetype": "text/x-python",
   "name": "python",
   "nbconvert_exporter": "python",
   "pygments_lexer": "ipython3",
   "version": "3.7.0"
  }
 },
 "nbformat": 4,
 "nbformat_minor": 2
}
