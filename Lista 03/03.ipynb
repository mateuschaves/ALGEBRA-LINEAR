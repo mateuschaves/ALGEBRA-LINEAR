{
 "cells": [
  {
   "cell_type": "markdown",
   "metadata": {},
   "source": [
    "<b>Escalone o sistema de equações lineares abaixo e indique se são compatíveis determinados (com a\n",
    "respectiva solução), compatíveis indeterminados ou incompatíveis.</b>"
   ]
  },
  {
   "cell_type": "markdown",
   "metadata": {},
   "source": [
    "$S: \\begin{cases}\n",
    "x + y + z = 2 \\\\\n",
    "x - y - z = -3 \\\\\n",
    "2x + y + 2z = 1 \\\\\n",
    "3x + 2y + 3z = 3\n",
    "\\end{cases} $ "
   ]
  },
  {
   "cell_type": "markdown",
   "metadata": {},
   "source": [
    "$\\left ( \\begin{array}{rcr}\n",
    "    1 & 1 & 1 & | & 2 \\\\\n",
    "    1 & -1 & -1 & | & -3 \\\\\n",
    "    2 & 1 & 2 & | & 1 \\\\\n",
    "    3 & 2 & 3 & | & 3\n",
    "\\end{array} \\right )$"
   ]
  },
  {
   "cell_type": "markdown",
   "metadata": {},
   "source": [
    "$L2 - L1 \\rightarrow L2$"
   ]
  },
  {
   "cell_type": "markdown",
   "metadata": {},
   "source": [
    "$\\left ( \\begin{array}{rcr}\n",
    "    1 & 1 & 1 & | & 2 \\\\\n",
    "    0 & -2 & -2 & | & -5 \\\\\n",
    "    2 & 1 & 2 & | & 1 \\\\\n",
    "    3 & 2 & 3 & | & 3\n",
    "\\end{array} \\right )$"
   ]
  },
  {
   "cell_type": "markdown",
   "metadata": {},
   "source": [
    "$L3 - 2L1 \\rightarrow L3$"
   ]
  },
  {
   "cell_type": "markdown",
   "metadata": {},
   "source": [
    "$\\left ( \\begin{array}{rcr}\n",
    "    1 & 1 & 1 & | & 2 \\\\\n",
    "    0 & -2 & -2 & | & -5 \\\\\n",
    "    0 & -1 & 0 & | & -3 \\\\\n",
    "    3 & 2 & 3 & | & 3\n",
    "\\end{array} \\right )$"
   ]
  },
  {
   "cell_type": "markdown",
   "metadata": {},
   "source": [
    "$L4 - 3L1 \\rightarrow L4$"
   ]
  },
  {
   "cell_type": "markdown",
   "metadata": {},
   "source": [
    "$\\left ( \\begin{array}{rcr}\n",
    "    1 & 1 & 1 & | & 2 \\\\\n",
    "    0 & -2 & -2 & | & -5 \\\\\n",
    "    0 & -1 & 0 & | & -3 \\\\\n",
    "    0 & -1 & 0 & | & -3\n",
    "\\end{array} \\right )$"
   ]
  },
  {
   "cell_type": "markdown",
   "metadata": {},
   "source": [
    "$-2L3 + L2 \\rightarrow L3$"
   ]
  },
  {
   "cell_type": "markdown",
   "metadata": {},
   "source": [
    "$\\left ( \\begin{array}{rcr}\n",
    "    1 & 1 & 1 & | & 2 \\\\\n",
    "    0 & -2 & -2 & | & -5 \\\\\n",
    "    0 &  0 & -2 & | & 1 \\\\\n",
    "    0 & -1 & 0 & | & -3\n",
    "\\end{array} \\right )$"
   ]
  },
  {
   "cell_type": "markdown",
   "metadata": {},
   "source": [
    "$-2L4 + L2 \\rightarrow L4$"
   ]
  },
  {
   "cell_type": "markdown",
   "metadata": {},
   "source": [
    "$\\left ( \\begin{array}{rcr}\n",
    "    1 & 1 & 1 & | & 2 \\\\\n",
    "    0 & -2 & -2 & | & -5 \\\\\n",
    "    0 &  0 & -2 & | & 1 \\\\\n",
    "    0 &  0 & -2 & | & 1\n",
    "\\end{array} \\right )$"
   ]
  },
  {
   "cell_type": "markdown",
   "metadata": {},
   "source": [
    "$-L4 + L3 \\rightarrow L4$"
   ]
  },
  {
   "cell_type": "markdown",
   "metadata": {},
   "source": [
    "$\\left ( \\begin{array}{rcr}\n",
    "    1 & 1 & 1 & | & 2 \\\\\n",
    "    0 & -2 & -2 & | & -5 \\\\\n",
    "    0 &  0 & -2 & | & 1 \\\\\n",
    "    0 &  0 &  0 & | & 0\n",
    "\\end{array} \\right )$"
   ]
  },
  {
   "cell_type": "markdown",
   "metadata": {},
   "source": [
    "$S: \\begin{cases}\n",
    "x + y + z = 2 \\\\\n",
    "-2y - 2z = -5  \\\\\n",
    "-2z = 1\n",
    "\\end{cases} $ "
   ]
  },
  {
   "cell_type": "markdown",
   "metadata": {},
   "source": [
    "$z = -\\frac{1}{2}$"
   ]
  },
  {
   "cell_type": "markdown",
   "metadata": {},
   "source": [
    "$-2y -2(-\\frac{1}{2}) = -5$"
   ]
  },
  {
   "cell_type": "markdown",
   "metadata": {},
   "source": [
    "$-2y + 1 = -5$"
   ]
  },
  {
   "cell_type": "markdown",
   "metadata": {},
   "source": [
    "$-2y = -6$"
   ]
  },
  {
   "cell_type": "markdown",
   "metadata": {},
   "source": [
    "$y = 3$"
   ]
  },
  {
   "cell_type": "markdown",
   "metadata": {},
   "source": [
    "$x + 3 - \\frac{1}{2} = 2$"
   ]
  },
  {
   "cell_type": "markdown",
   "metadata": {},
   "source": [
    "$x + \\frac{5}{2} = 2$"
   ]
  },
  {
   "cell_type": "markdown",
   "metadata": {},
   "source": [
    "$x = 2 - \\frac{5}{2}$"
   ]
  },
  {
   "cell_type": "markdown",
   "metadata": {},
   "source": [
    "$x = -\\frac{1}{2}$"
   ]
  },
  {
   "cell_type": "markdown",
   "metadata": {},
   "source": [
    "$S = (-\\frac{1}{2}, 3, -\\frac{1}{2})$"
   ]
  }
 ],
 "metadata": {
  "kernelspec": {
   "display_name": "Python 3",
   "language": "python",
   "name": "python3"
  },
  "language_info": {
   "codemirror_mode": {
    "name": "ipython",
    "version": 3
   },
   "file_extension": ".py",
   "mimetype": "text/x-python",
   "name": "python",
   "nbconvert_exporter": "python",
   "pygments_lexer": "ipython3",
   "version": "3.7.0"
  }
 },
 "nbformat": 4,
 "nbformat_minor": 2
}
