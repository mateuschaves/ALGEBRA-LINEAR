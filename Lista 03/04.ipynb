{
 "cells": [
  {
   "cell_type": "markdown",
   "metadata": {},
   "source": [
    "<b>Escalone o sistema de equações lineares abaixo e indique se são compatíveis determinados (com a\n",
    "respectiva solução), compatíveis indeterminados ou incompatíveis.</b>"
   ]
  },
  {
   "cell_type": "markdown",
   "metadata": {},
   "source": [
    "$S: \\begin{cases}\n",
    "x + y + z + t = 0 \\\\\n",
    "x + y - 2z  + t= 0 \\\\\n",
    "2x + y + 2z - t = 0 \\\\\n",
    "\\end{cases} $ "
   ]
  },
  {
   "cell_type": "markdown",
   "metadata": {},
   "source": [
    "$\\left ( \\begin{array}{rcr}\n",
    "    1 & 1 & 1 & 1 & | & 0 \\\\\n",
    "    1 & 1 & -2  & 1 & | & 0 \\\\\n",
    "    2 & 1 & 2 & -1 &| & 0 \\\\\n",
    "\\end{array} \\right )$"
   ]
  },
  {
   "cell_type": "markdown",
   "metadata": {},
   "source": [
    "$L2 - L1 \\rightarrow L2$"
   ]
  },
  {
   "cell_type": "markdown",
   "metadata": {},
   "source": [
    "$\\left ( \\begin{array}{rcr}\n",
    "    1 & 1 & 1 & 1 & | & 0 \\\\\n",
    "    0 & 0 & -3  & 0 & | & 0 \\\\\n",
    "    2 & 1 & 2 & -1 &| & 0 \\\\\n",
    "\\end{array} \\right )$"
   ]
  },
  {
   "cell_type": "markdown",
   "metadata": {},
   "source": [
    "$L3 - 2L1 \\rightarrow L3$"
   ]
  },
  {
   "cell_type": "markdown",
   "metadata": {},
   "source": [
    "$\\left ( \\begin{array}{rcr}\n",
    "    1 & 1 & 1 & 1 & | & 0 \\\\\n",
    "    0 & 0 & -3  & 0 & | & 0 \\\\\n",
    "    0 & -1 & 0 & -3 &| & 0 \\\\\n",
    "\\end{array} \\right )$"
   ]
  },
  {
   "cell_type": "markdown",
   "metadata": {},
   "source": [
    "$L2 \\leftrightarrow L3$"
   ]
  },
  {
   "cell_type": "markdown",
   "metadata": {},
   "source": [
    "$\\left ( \\begin{array}{rcr}\n",
    "    1 & 1 & 1 & 1 & | & 0 \\\\\n",
    "    0 & -1 & 0 & -3 &| & 0 \\\\\n",
    "    0 & 0 & -3  & 0 & | & 0 \n",
    "\\end{array} \\right )$"
   ]
  },
  {
   "cell_type": "markdown",
   "metadata": {},
   "source": [
    "$S: \\begin{cases}\n",
    "x + y + z + t = 0 \\\\\n",
    "-y -3t= 0 \\\\\n",
    "-3z = 0 \\\\\n",
    "\\end{cases} $ "
   ]
  },
  {
   "cell_type": "markdown",
   "metadata": {},
   "source": [
    "$z = 0$"
   ]
  },
  {
   "cell_type": "markdown",
   "metadata": {},
   "source": [
    "$-y - 3t = 0$"
   ]
  },
  {
   "cell_type": "markdown",
   "metadata": {},
   "source": [
    "$y = -3t$"
   ]
  },
  {
   "cell_type": "markdown",
   "metadata": {},
   "source": [
    "$x - 3t + t = 0$"
   ]
  },
  {
   "cell_type": "markdown",
   "metadata": {},
   "source": [
    "$x - 2t = 0$"
   ]
  },
  {
   "cell_type": "markdown",
   "metadata": {},
   "source": [
    "$x = 2t$"
   ]
  },
  {
   "cell_type": "markdown",
   "metadata": {},
   "source": [
    "$2t - 3t + t = 0$"
   ]
  },
  {
   "cell_type": "markdown",
   "metadata": {},
   "source": [
    "$0 = 0$"
   ]
  },
  {
   "cell_type": "markdown",
   "metadata": {},
   "source": [
    "<b>Sistema possível e indeterminado</b>"
   ]
  }
 ],
 "metadata": {
  "kernelspec": {
   "display_name": "Python 3",
   "language": "python",
   "name": "python3"
  },
  "language_info": {
   "codemirror_mode": {
    "name": "ipython",
    "version": 3
   },
   "file_extension": ".py",
   "mimetype": "text/x-python",
   "name": "python",
   "nbconvert_exporter": "python",
   "pygments_lexer": "ipython3",
   "version": "3.7.0"
  }
 },
 "nbformat": 4,
 "nbformat_minor": 2
}
