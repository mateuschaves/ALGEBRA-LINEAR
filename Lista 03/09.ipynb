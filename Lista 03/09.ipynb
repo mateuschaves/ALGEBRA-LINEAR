{
 "cells": [
  {
   "cell_type": "markdown",
   "metadata": {},
   "source": [
    "<b>Determine os valores possível para $a$, para que o sistema abaixo seja compatível.</b>"
   ]
  },
  {
   "cell_type": "markdown",
   "metadata": {},
   "source": [
    "$M = \\begin{cases}\n",
    "2x - 2y - 2z - 3t = -1 \\\\\n",
    "x - 2y - 2z - t = -1 \\\\\n",
    "2x - 2y - z - 5t = 9 \\\\\n",
    "-y + z - at = 0\n",
    "\\end{cases} $"
   ]
  },
  {
   "cell_type": "markdown",
   "metadata": {},
   "source": [
    "$\\left ( \\begin{array}{rcr}\n",
    "    2 & -2 & -2 & -3 & -1 \\\\\n",
    "    1 & -2 & -2 & -1 & -1 \\\\\n",
    "    2 & -2 & -1 & -5 & 9 \\\\\n",
    "    0 & -1 & 1 & -a & 0\n",
    "\\end{array} \\right )$"
   ]
  },
  {
   "cell_type": "markdown",
   "metadata": {},
   "source": [
    "$2L2 - L1 \\rightarrow L2$"
   ]
  },
  {
   "cell_type": "markdown",
   "metadata": {},
   "source": [
    "$\\left ( \\begin{array}{rcr}\n",
    "    2 & -2 & -2 & -3 & -1 \\\\\n",
    "    0 & -2 & -2 & 1 & -1 \\\\\n",
    "    2 & -2 & -1 & -5 & 9 \\\\\n",
    "    0 & -1 & 1 & -a & 0\n",
    "\\end{array} \\right )$"
   ]
  },
  {
   "cell_type": "markdown",
   "metadata": {},
   "source": [
    "$L3 - L1 \\rightarrow L3$"
   ]
  },
  {
   "cell_type": "markdown",
   "metadata": {},
   "source": [
    "$\\left ( \\begin{array}{rcr}\n",
    "    2 & -2 & -2 & -3 & -1 \\\\\n",
    "    0 & -2 & -2 & 1 & -1 \\\\\n",
    "    0 &  0 &  1 & -2 & 10 \\\\\n",
    "    0 & -1 & 1 & -a & 0\n",
    "\\end{array} \\right )$"
   ]
  },
  {
   "cell_type": "markdown",
   "metadata": {},
   "source": [
    "$-2L4 + L2 \\rightarrow L4$"
   ]
  },
  {
   "cell_type": "markdown",
   "metadata": {},
   "source": [
    "$\\left ( \\begin{array}{rcr}\n",
    "    2 & -2 & -2 & -3 & -1 \\\\\n",
    "    0 & -2 & -2 & 1 & -1 \\\\\n",
    "    0 &  0 &  1 & -2 & 10 \\\\\n",
    "    0 &  0 &  -4 & 2a + 1 & -1\n",
    "\\end{array} \\right )$"
   ]
  },
  {
   "cell_type": "markdown",
   "metadata": {},
   "source": [
    "$L4 + 4L3 \\rightarrow L4$"
   ]
  },
  {
   "cell_type": "markdown",
   "metadata": {},
   "source": [
    "$\\left ( \\begin{array}{rcr}\n",
    "    2 & -2 & -2 & -3 & -1 \\\\\n",
    "    0 & -2 & -2 & 1 & -1 \\\\\n",
    "    0 &  0 &  1 & -2 & 10 \\\\\n",
    "    0 &  0 &  0 & 2a - 7 & 39\n",
    "\\end{array} \\right )$"
   ]
  },
  {
   "cell_type": "markdown",
   "metadata": {},
   "source": [
    "$2a - 7 = 39$"
   ]
  },
  {
   "cell_type": "markdown",
   "metadata": {},
   "source": [
    "$2a = 46$"
   ]
  },
  {
   "cell_type": "markdown",
   "metadata": {},
   "source": [
    "$a = 23$"
   ]
  }
 ],
 "metadata": {
  "kernelspec": {
   "display_name": "Python 3",
   "language": "python",
   "name": "python3"
  },
  "language_info": {
   "codemirror_mode": {
    "name": "ipython",
    "version": 3
   },
   "file_extension": ".py",
   "mimetype": "text/x-python",
   "name": "python",
   "nbconvert_exporter": "python",
   "pygments_lexer": "ipython3",
   "version": "3.7.0"
  }
 },
 "nbformat": 4,
 "nbformat_minor": 2
}
