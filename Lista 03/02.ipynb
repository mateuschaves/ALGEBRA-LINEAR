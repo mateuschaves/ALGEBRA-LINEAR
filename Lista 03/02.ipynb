{
 "cells": [
  {
   "cell_type": "markdown",
   "metadata": {},
   "source": [
    "<b>Escalone o sistema de equações lineares abaixo e indique se são compatíveis determinados (com a\n",
    "respectiva solução), compatíveis indeterminados ou incompatíveis.</b>"
   ]
  },
  {
   "cell_type": "markdown",
   "metadata": {},
   "source": [
    "$S: \\begin{cases}\n",
    "3x +9y + 12z = 24 \\\\\n",
    "4x + 16y + 26z = 46 \\\\\n",
    "x + 7y + 14z = 20\n",
    "\\end{cases} $ "
   ]
  },
  {
   "cell_type": "markdown",
   "metadata": {},
   "source": [
    "$\\left ( \\begin{array}{rcr}\n",
    "    3 & 9 & 12 & | & 24 \\\\\n",
    "    4 & 16 & 26 & | & 46 \\\\\n",
    "    1 & 7 & 14 & | & 20 \\\\\n",
    "\\end{array} \\right )$"
   ]
  },
  {
   "cell_type": "markdown",
   "metadata": {},
   "source": [
    "$\\frac{1}{3}L1 \\rightarrow L1 $"
   ]
  },
  {
   "cell_type": "markdown",
   "metadata": {},
   "source": [
    "$\\left ( \\begin{array}{rcr}\n",
    "    1 & 3 & 4 & | & 8 \\\\\n",
    "    4 & 16 & 26 & | & 46 \\\\\n",
    "    1 & 7 & 14 & | & 20 \\\\\n",
    "\\end{array} \\right )$"
   ]
  },
  {
   "cell_type": "markdown",
   "metadata": {},
   "source": [
    "$\\frac{1}{2}L2 \\rightarrow L2$"
   ]
  },
  {
   "cell_type": "markdown",
   "metadata": {},
   "source": [
    "$\\left ( \\begin{array}{rcr}\n",
    "    1 & 3 & 4 & | & 8 \\\\\n",
    "    2 & 8 & 13 & | & 23 \\\\\n",
    "    1 & 7 & 14 & | & 20 \\\\\n",
    "\\end{array} \\right )$"
   ]
  },
  {
   "cell_type": "markdown",
   "metadata": {},
   "source": [
    "$L2 - 2L1 \\rightarrow L2$"
   ]
  },
  {
   "cell_type": "markdown",
   "metadata": {},
   "source": [
    "$\\left ( \\begin{array}{rcr}\n",
    "    1 & 3 & 4 & | & 8 \\\\\n",
    "    0 & 2 & 5 & | & 7 \\\\\n",
    "    1 & 7 & 14 & | & 20 \\\\\n",
    "\\end{array} \\right )$"
   ]
  },
  {
   "cell_type": "markdown",
   "metadata": {},
   "source": [
    "$L3 - L1 \\rightarrow L3$"
   ]
  },
  {
   "cell_type": "markdown",
   "metadata": {},
   "source": [
    "$\\left ( \\begin{array}{rcr}\n",
    "    1 & 3 & 4 & | & 8 \\\\\n",
    "    0 & 2 & 5 & | & 7 \\\\\n",
    "    0 & 4 & 10 & | & 12 \\\\\n",
    "\\end{array} \\right )$"
   ]
  },
  {
   "cell_type": "markdown",
   "metadata": {},
   "source": [
    "$L3 - 2L2 \\rightarrow L2$"
   ]
  },
  {
   "cell_type": "markdown",
   "metadata": {},
   "source": [
    "$\\left ( \\begin{array}{rcr}\n",
    "    1 & 3 & 4 & | & 8 \\\\\n",
    "    0 & 2 & 5 & | & 7 \\\\\n",
    "    0 & 0 & 0 & | & -2 \\\\\n",
    "\\end{array} \\right )$"
   ]
  },
  {
   "cell_type": "markdown",
   "metadata": {},
   "source": [
    "$S: \\begin{cases}\n",
    "x + 3y + 4z = 8 \\\\\n",
    "2y + 5z = 7 \\\\\n",
    "0 = -2\n",
    "\\end{cases} $ "
   ]
  },
  {
   "cell_type": "markdown",
   "metadata": {},
   "source": [
    "$0 = -2$, <b>Incompatível</b>"
   ]
  }
 ],
 "metadata": {
  "kernelspec": {
   "display_name": "Python 3",
   "language": "python",
   "name": "python3"
  },
  "language_info": {
   "codemirror_mode": {
    "name": "ipython",
    "version": 3
   },
   "file_extension": ".py",
   "mimetype": "text/x-python",
   "name": "python",
   "nbconvert_exporter": "python",
   "pygments_lexer": "ipython3",
   "version": "3.7.0"
  }
 },
 "nbformat": 4,
 "nbformat_minor": 2
}
