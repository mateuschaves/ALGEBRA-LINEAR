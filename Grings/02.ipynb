{
 "cells": [
  {
   "cell_type": "markdown",
   "metadata": {},
   "source": [
    "<b>Resolver o seguinte sistema</b>"
   ]
  },
  {
   "cell_type": "markdown",
   "metadata": {},
   "source": [
    "$\n",
    "\\begin{cases}\n",
    "2x + 4y + 2z = -2 \\\\\n",
    "3x + 3y + 3z = 0 \\\\\n",
    "x - y + z = 0\n",
    "\\end{cases}\n",
    "$"
   ]
  },
  {
   "cell_type": "markdown",
   "metadata": {},
   "source": [
    "$\\left ( \\begin{array}{cc}\n",
    "   2 & 4 & 2 & -2 \\\\\n",
    "   3 & 3 & 3 & 0 \\\\\n",
    "   1 & -1 & 1 & 0\n",
    "\\end{array} \\right)$"
   ]
  },
  {
   "cell_type": "markdown",
   "metadata": {},
   "source": [
    "$\\frac{1}{2}L1 \\rightarrow L1 $ e $\\frac{1}{3}L2 \\rightarrow L2$"
   ]
  },
  {
   "cell_type": "markdown",
   "metadata": {},
   "source": [
    "$\\left ( \\begin{array}{cc}\n",
    "   1 & 2 & 1 & -1 \\\\\n",
    "   1 & 1 & 1 & 0 \\\\\n",
    "   1 & -1 & 1 & 0\n",
    "\\end{array} \\right)$"
   ]
  },
  {
   "cell_type": "markdown",
   "metadata": {},
   "source": [
    "$L2 - L1 \\rightarrow L2$"
   ]
  },
  {
   "cell_type": "markdown",
   "metadata": {},
   "source": [
    "$\\left ( \\begin{array}{cc}\n",
    "   1 & 2 & 1 & -1 \\\\\n",
    "   0 & -1 & 0 & 1 \\\\\n",
    "   1 & -1 & 1 & 0\n",
    "\\end{array} \\right)$"
   ]
  },
  {
   "cell_type": "markdown",
   "metadata": {},
   "source": [
    "$L3 - L1 \\rightarrow L3$"
   ]
  },
  {
   "cell_type": "markdown",
   "metadata": {},
   "source": [
    "$\\left ( \\begin{array}{cc}\n",
    "   1 & 2 & 1 & -1 \\\\\n",
    "   0 & -1 & 0 & 1 \\\\\n",
    "   0 & -3 & 0 & 1\n",
    "\\end{array} \\right)$"
   ]
  },
  {
   "cell_type": "markdown",
   "metadata": {},
   "source": [
    "$-1\\cdot L2 \\rightarrow L2$"
   ]
  },
  {
   "cell_type": "markdown",
   "metadata": {},
   "source": [
    "$\\left ( \\begin{array}{cc}\n",
    "   1 & 2 & 1 & -1 \\\\\n",
    "   0 & 1 & 0 & -1 \\\\\n",
    "   0 & -3 & 0 & 1\n",
    "\\end{array} \\right)$"
   ]
  },
  {
   "cell_type": "markdown",
   "metadata": {},
   "source": [
    "$L3 + 3L2 \\rightarrow L3$"
   ]
  },
  {
   "cell_type": "markdown",
   "metadata": {},
   "source": [
    "$\\left ( \\begin{array}{cc}\n",
    "   1 & 2 & 1 & -1 \\\\\n",
    "   0 & 1 & 0 & -1 \\\\\n",
    "   0 & 0 & 0 & -2\n",
    "\\end{array} \\right)$"
   ]
  },
  {
   "cell_type": "markdown",
   "metadata": {},
   "source": [
    "$0 = 2$, Sistema Impossível"
   ]
  }
 ],
 "metadata": {
  "kernelspec": {
   "display_name": "Python 3",
   "language": "python",
   "name": "python3"
  },
  "language_info": {
   "codemirror_mode": {
    "name": "ipython",
    "version": 3
   },
   "file_extension": ".py",
   "mimetype": "text/x-python",
   "name": "python",
   "nbconvert_exporter": "python",
   "pygments_lexer": "ipython3",
   "version": "3.7.0"
  }
 },
 "nbformat": 4,
 "nbformat_minor": 2
}
