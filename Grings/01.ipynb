{
 "cells": [
  {
   "cell_type": "markdown",
   "metadata": {},
   "source": [
    "<b>Determine as colunas pivô.</b>"
   ]
  },
  {
   "cell_type": "markdown",
   "metadata": {},
   "source": [
    "$\\left [ \\begin{array}{rcr}\n",
    "    0 & 0 & 0 & -6 & 20 \\\\\n",
    "    0 & 1 & 2 & -3 & 4  \\\\\n",
    "    1 & 4 & 5 & -9 & 7\n",
    "\\end{array} \\right]$"
   ]
  },
  {
   "cell_type": "markdown",
   "metadata": {},
   "source": [
    "L3 $\\rightarrow$ L1"
   ]
  },
  {
   "cell_type": "markdown",
   "metadata": {},
   "source": [
    "$\\left [ \\begin{array}{cc}\n",
    "    1 & 4 & 5 & -9 & 7 \\\\\n",
    "    0 & 1 & 2 & -3 & 4  \\\\\n",
    "    0 & 0 & 0 & -6 & 20 \n",
    "\\end{array} \\right]$"
   ]
  },
  {
   "cell_type": "markdown",
   "metadata": {},
   "source": [
    "<b>Elementos pivôs: $1, 1, -6$</b>"
   ]
  },
  {
   "cell_type": "markdown",
   "metadata": {},
   "source": [
    "\\begin{cases}\n",
    "2x-5y+z=1 \\\\\n",
    "3x-y+2z=3 \\\\\n",
    "4x-y-3z=-1\n",
    "\\end{cases}"
   ]
  }
 ],
 "metadata": {
  "kernelspec": {
   "display_name": "Python 3",
   "language": "python",
   "name": "python3"
  },
  "language_info": {
   "codemirror_mode": {
    "name": "ipython",
    "version": 3
   },
   "file_extension": ".py",
   "mimetype": "text/x-python",
   "name": "python",
   "nbconvert_exporter": "python",
   "pygments_lexer": "ipython3",
   "version": "3.7.0"
  }
 },
 "nbformat": 4,
 "nbformat_minor": 1
}
