{
 "cells": [
  {
   "cell_type": "markdown",
   "metadata": {},
   "source": [
    "$\\left ( \\begin{array}{rcr}\n",
    "    x \\\\\n",
    "    y\n",
    "\\end{array} \\right )\n",
    "; x >= 0, y >=0$"
   ]
  },
  {
   "cell_type": "markdown",
   "metadata": {},
   "source": [
    "$m_1 = \\left ( \\begin{array}{rcr}\n",
    "    x_1 \\\\\n",
    "    y_1\n",
    "\\end{array} \\right )$"
   ]
  },
  {
   "cell_type": "markdown",
   "metadata": {},
   "source": [
    "$m_2 = \\left ( \\begin{array}{rcr}\n",
    "    x_2 \\\\\n",
    "    y_2\n",
    "\\end{array} \\right )$"
   ]
  },
  {
   "cell_type": "markdown",
   "metadata": {},
   "source": [
    "$m_1 + m_2 = \\left ( \\begin{array}{rcr}\n",
    "    x_1 \\\\\n",
    "    y_1\n",
    "\\end{array} \\right )\n",
    "+  \\left ( \\begin{array}{rcr}\n",
    "    x_2 \\\\\n",
    "    y_2\n",
    "\\end{array} \\right )$"
   ]
  },
  {
   "cell_type": "markdown",
   "metadata": {},
   "source": [
    "$m_1 + m_2 = \\left ( \\begin{array}{rcr}\n",
    "    x_1 + x_2 \\\\\n",
    "    y_1 + y_2\n",
    "\\end{array} \\right )$"
   ]
  },
  {
   "cell_type": "markdown",
   "metadata": {},
   "source": [
    "$m_1 + m_2 \\in W$"
   ]
  },
  {
   "cell_type": "markdown",
   "metadata": {},
   "source": [
    "$\\alpha \\cdot m_1 = \\alpha \\cdot \\left ( \\begin{array}{rcr}\n",
    "    x_1 \\\\\n",
    "    y_1\n",
    "\\end{array} \\right )$"
   ]
  },
  {
   "cell_type": "markdown",
   "metadata": {},
   "source": [
    "$\\alpha \\cdot m_1 =\\left ( \\begin{array}{rcr}\n",
    "    \\alpha \\cdot x_1 \\\\\n",
    "    \\alpha \\cdot  y_1\n",
    "\\end{array} \\right )$ para $\\alpha < 0$ o conjunto $m_1 \\notin W$  "
   ]
  }
 ],
 "metadata": {
  "kernelspec": {
   "display_name": "Python 3",
   "language": "python",
   "name": "python3"
  },
  "language_info": {
   "codemirror_mode": {
    "name": "ipython",
    "version": 3
   },
   "file_extension": ".py",
   "mimetype": "text/x-python",
   "name": "python",
   "nbconvert_exporter": "python",
   "pygments_lexer": "ipython3",
   "version": "3.7.0"
  }
 },
 "nbformat": 4,
 "nbformat_minor": 2
}
