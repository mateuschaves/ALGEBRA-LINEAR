{
 "cells": [
  {
   "cell_type": "markdown",
   "metadata": {},
   "source": [
    "$U = \\{ (x, y, z, t) \\in R^4; x - y + z + t = 0 e -x + 3y + z - 2t = 0\\}$"
   ]
  },
  {
   "cell_type": "markdown",
   "metadata": {},
   "source": [
    "$U: \\begin{cases}\n",
    "x - y + z + t = 0 \\\\\n",
    "-x + 3y + z - 2t = 0 \n",
    "\\end{cases}  \\rightarrow 2y + 2z -t = 0$"
   ]
  },
  {
   "cell_type": "markdown",
   "metadata": {},
   "source": [
    "$y = \\frac{t - 2z}{2}$"
   ]
  },
  {
   "cell_type": "markdown",
   "metadata": {},
   "source": [
    "$x - \\frac{t - 2z}{2} + z + t = 0$"
   ]
  },
  {
   "cell_type": "markdown",
   "metadata": {},
   "source": [
    "$x = \\frac{t - 2z}{2} - z - t$"
   ]
  },
  {
   "cell_type": "markdown",
   "metadata": {},
   "source": [
    "$x = \\frac{-2z + t - 2z}{2} - t$"
   ]
  },
  {
   "cell_type": "markdown",
   "metadata": {},
   "source": [
    "$x = \\frac{-2t -2z + t - 2z}{2}$"
   ]
  },
  {
   "cell_type": "markdown",
   "metadata": {},
   "source": [
    "$x = \\frac{-4z - t}{2}$"
   ]
  },
  {
   "cell_type": "markdown",
   "metadata": {},
   "source": [
    "$(\\frac{-4z-t}{2}, \\frac{t - 2z}{2}, z, t)$"
   ]
  },
  {
   "cell_type": "markdown",
   "metadata": {},
   "source": [
    "$z(-\\frac{4}{2}, -1, 1, 0) + t(-\\frac{1}{2}, \\frac{1}{2}, 0, 1)$"
   ]
  }
 ],
 "metadata": {
  "kernelspec": {
   "display_name": "Python 3",
   "language": "python",
   "name": "python3"
  },
  "language_info": {
   "codemirror_mode": {
    "name": "ipython",
    "version": 3
   },
   "file_extension": ".py",
   "mimetype": "text/x-python",
   "name": "python",
   "nbconvert_exporter": "python",
   "pygments_lexer": "ipython3",
   "version": "3.7.0"
  }
 },
 "nbformat": 4,
 "nbformat_minor": 2
}
