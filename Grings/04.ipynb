{
 "cells": [
  {
   "cell_type": "markdown",
   "metadata": {},
   "source": [
    "$S= \\{ \\left ( \\begin{array}{rcr}\n",
    "    a & 0\\\\\n",
    "    c & 0\n",
    "\\end{array} \\right ); a, c \\in R\\}$"
   ]
  },
  {
   "cell_type": "markdown",
   "metadata": {},
   "source": [
    "$m_1 = \\left ( \\begin{array}{rcr}\n",
    "    a_1 & 0\\\\\n",
    "    c_1 & 0\n",
    "\\end{array} \\right)$"
   ]
  },
  {
   "cell_type": "markdown",
   "metadata": {},
   "source": [
    "$m_2 = \\left ( \\begin{array}{rcr}\n",
    "    a_2 & 0\\\\\n",
    "    c_2 & 0\n",
    "\\end{array} \\right)$"
   ]
  },
  {
   "cell_type": "markdown",
   "metadata": {},
   "source": [
    "$m_1 + m_2 \\left ( \\begin{array}{rcr}\n",
    "    a_1 + a_2 & 0 + 0\\\\\n",
    "    c_1 + c_2 & 0 + 0\n",
    "\\end{array} \\right)$"
   ]
  },
  {
   "cell_type": "markdown",
   "metadata": {},
   "source": [
    "$m_1 + m+2 \\in S$"
   ]
  },
  {
   "cell_type": "markdown",
   "metadata": {},
   "source": [
    "$\\alpha \\cdot m_1 = \\left ( \\begin{array}{rcr}\n",
    "    \\alpha \\cdot a_1 & \\alpha \\cdot 0\\\\\n",
    "    \\alpha \\cdot c_1 & \\alpha \\cdot 0\n",
    "\\end{array} \\right)$"
   ]
  },
  {
   "cell_type": "markdown",
   "metadata": {},
   "source": [
    "$\\alpha \\cdot m_1 \\in S$"
   ]
  }
 ],
 "metadata": {
  "kernelspec": {
   "display_name": "Python 3",
   "language": "python",
   "name": "python3"
  },
  "language_info": {
   "codemirror_mode": {
    "name": "ipython",
    "version": 3
   },
   "file_extension": ".py",
   "mimetype": "text/x-python",
   "name": "python",
   "nbconvert_exporter": "python",
   "pygments_lexer": "ipython3",
   "version": "3.7.0"
  }
 },
 "nbformat": 4,
 "nbformat_minor": 2
}
