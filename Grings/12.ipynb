{
 "cells": [
  {
   "cell_type": "markdown",
   "metadata": {},
   "source": [
    "$T: R^3 \\rightarrow R^2,\n",
    "\\left \\{ \\begin{array}{ll}\n",
    "    T(1, 1, 1) = (1, 2) \\\\\n",
    "    T(1, 1, 0) = (2, 3) \\\\\n",
    "    T(1, 0, 0) = (3, 4) \n",
    "\\end{array} \\right.$"
   ]
  },
  {
   "cell_type": "markdown",
   "metadata": {},
   "source": [
    "$(x, y, z) = a(1, 1, 1) + b(1, 1, 0) + c(1, 0, 0)$"
   ]
  },
  {
   "cell_type": "markdown",
   "metadata": {},
   "source": [
    "$(x, y, z) = (a, a, a) + (b, b, 0) + (c, 0, 0)$"
   ]
  },
  {
   "cell_type": "markdown",
   "metadata": {},
   "source": [
    "$(x, y, z) = (a + b + c, a + b, a )$"
   ]
  },
  {
   "cell_type": "markdown",
   "metadata": {},
   "source": [
    "$\\left \\{ \\begin{array}{ll}\n",
    "   a + b + c = x \\\\\n",
    "   a + b = y \\\\\n",
    "   a = z\n",
    "\\end{array} \\right.$"
   ]
  },
  {
   "cell_type": "markdown",
   "metadata": {},
   "source": [
    "$b = y - z$"
   ]
  },
  {
   "cell_type": "markdown",
   "metadata": {},
   "source": [
    "$c = x - y$"
   ]
  },
  {
   "cell_type": "markdown",
   "metadata": {},
   "source": [
    "$(x, y, z) = z(1, 1, 1) + (y - z)(1, 1, 0) + (x - y)(1, 0, 0)$"
   ]
  },
  {
   "cell_type": "markdown",
   "metadata": {},
   "source": [
    "$T(x, y, z) = zT(1, 1, 1) + (y - z)T(1, 1, 0) + (x - y)T(1, 0, 0)$"
   ]
  },
  {
   "cell_type": "markdown",
   "metadata": {},
   "source": [
    "$T(x, y, z) = z(1, 2) + (y - z)(2, 3) + (x - y)(3, 4)$ "
   ]
  },
  {
   "cell_type": "markdown",
   "metadata": {},
   "source": [
    "$T(x, y, z) = (z, 2z) + (2y - 2z, 3y - 3z) + (3x - 3y, 4x - 4y)$"
   ]
  },
  {
   "cell_type": "markdown",
   "metadata": {},
   "source": [
    "$T(x, y, z) = ( 3x - z - y, 4x - z - y)$"
   ]
  }
 ],
 "metadata": {
  "kernelspec": {
   "display_name": "Python 3",
   "language": "python",
   "name": "python3"
  },
  "language_info": {
   "codemirror_mode": {
    "name": "ipython",
    "version": 3
   },
   "file_extension": ".py",
   "mimetype": "text/x-python",
   "name": "python",
   "nbconvert_exporter": "python",
   "pygments_lexer": "ipython3",
   "version": "3.7.0"
  }
 },
 "nbformat": 4,
 "nbformat_minor": 2
}
